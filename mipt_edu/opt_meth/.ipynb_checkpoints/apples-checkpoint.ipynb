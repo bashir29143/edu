{
 "cells": [
  {
   "cell_type": "code",
   "execution_count": 1,
   "metadata": {},
   "outputs": [],
   "source": [
    "import numpy as np\n",
    "import cvxpy as cp"
   ]
  },
  {
   "cell_type": "markdown",
   "metadata": {},
   "source": [
    "x[0] произведено сока\n",
    "\n",
    "x[1] произведено сидора\n",
    "\n",
    "x[2] из сока в сидор\n",
    "\n",
    "x[3] из сидора в Кальвадос"
   ]
  },
  {
   "cell_type": "code",
   "execution_count": 2,
   "metadata": {},
   "outputs": [],
   "source": [
    "x = cp.Variable(4)"
   ]
  },
  {
   "cell_type": "code",
   "execution_count": 3,
   "metadata": {},
   "outputs": [],
   "source": [
    "t = 1500 #цена тонны яблок"
   ]
  },
  {
   "cell_type": "code",
   "execution_count": 4,
   "metadata": {},
   "outputs": [],
   "source": [
    "ju = x[0] - x[2]\n",
    "ci = x[1] + 0.6*x[2] - x[3]\n",
    "Ca = 0.4*x[3]"
   ]
  },
  {
   "cell_type": "code",
   "execution_count": 5,
   "metadata": {},
   "outputs": [],
   "source": [
    "cost = x[0]*t/500 + x[1]*t/250\n",
    "income = 4*ju + 8*ci +10*Ca\n",
    "profit = income - cost"
   ]
  },
  {
   "cell_type": "code",
   "execution_count": 6,
   "metadata": {},
   "outputs": [],
   "source": [
    "cons = [x[0] >= 0, x[1] >= 0, x[2] >= 0, x[3] >= 0, ju <= 5000, ju >= 0, ci <= 2000, ci >= 0, Ca <= 500, Ca >= 0]"
   ]
  },
  {
   "cell_type": "code",
   "execution_count": 7,
   "metadata": {},
   "outputs": [],
   "source": [
    "obj = cp.Minimize(-profit)\n",
    "\n",
    "prob = cp.Problem(obj, cons)\n",
    "\n",
    "result = -prob.solve()"
   ]
  },
  {
   "cell_type": "code",
   "execution_count": 10,
   "metadata": {},
   "outputs": [
    {
     "name": "stdout",
     "output_type": "stream",
     "text": [
      "x = [ 8.33333333e+03  3.03367684e-19  3.33333333e+03 -1.47027450e-19]\n",
      "\n",
      "profit = 11000.0\n",
      "\n"
     ]
    }
   ],
   "source": [
    "print('x = {}\\n'.format(x.value))\n",
    "print('profit = {}\\n'.format(result))"
   ]
  }
 ],
 "metadata": {
  "kernelspec": {
   "display_name": "Python 3",
   "language": "python",
   "name": "python3"
  },
  "language_info": {
   "codemirror_mode": {
    "name": "ipython",
    "version": 3
   },
   "file_extension": ".py",
   "mimetype": "text/x-python",
   "name": "python",
   "nbconvert_exporter": "python",
   "pygments_lexer": "ipython3",
   "version": "3.7.2"
  }
 },
 "nbformat": 4,
 "nbformat_minor": 2
}
