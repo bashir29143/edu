{
 "cells": [
  {
   "cell_type": "code",
   "execution_count": 14,
   "metadata": {},
   "outputs": [],
   "source": [
    "import numpy as np\n",
    "import cvxpy as cp"
   ]
  },
  {
   "cell_type": "markdown",
   "metadata": {},
   "source": [
    "x[0] - P произведнное на верстаке C,\n",
    "x[1] - P произведнное на верстаке D,\n",
    "x[2] - Q произведнное на верстаке B,\n",
    "x[3] - Q произведнное на верстаке D"
   ]
  },
  {
   "cell_type": "code",
   "execution_count": 15,
   "metadata": {},
   "outputs": [],
   "source": [
    "x = cp.Variable(4)"
   ]
  },
  {
   "cell_type": "code",
   "execution_count": 16,
   "metadata": {},
   "outputs": [],
   "source": [
    "P = x[0] + x[1]\n",
    "Q = x[2] + x[3]"
   ]
  },
  {
   "cell_type": "code",
   "execution_count": 17,
   "metadata": {},
   "outputs": [],
   "source": [
    "MP1 = P\n",
    "MP2 = P + Q\n",
    "MP3 = P + Q\n",
    "\n",
    "Atime = MP1*15 \n",
    "Btime = MP2*15 + x[2]*15\n",
    "Ctime = MP3*5 + x[0]*15\n",
    "Dtime = x[1]*15 + x[3]*5\n",
    "\n",
    "income = P*90 + Q*100\n",
    "cost = MP1*5 + MP2*20 + MP3*20\n",
    "profit = income - cost"
   ]
  },
  {
   "cell_type": "code",
   "execution_count": 18,
   "metadata": {},
   "outputs": [],
   "source": [
    "cons = [0 <= Atime, 0 <= Btime, 0 <= Ctime, 0 <= Dtime, Atime <= 40*60, Btime <= 40*60, Ctime <= 40*60, Dtime <= 40*60, x[0] >= 0, x[1] >= 0, x[2] >= 0, x[3] >= 0]\n",
    "\n",
    "obj = cp.Minimize(-profit)\n",
    "\n",
    "prob = cp.Problem(obj, cons)\n",
    "\n",
    "result = -prob.solve()\n"
   ]
  },
  {
   "cell_type": "code",
   "execution_count": 19,
   "metadata": {},
   "outputs": [
    {
     "name": "stdout",
     "output_type": "stream",
     "text": [
      "[5.75451265e-23 9.85557562e-23 2.90557750e-22 1.60000000e+02]\n",
      "9600.0\n"
     ]
    }
   ],
   "source": [
    "print(x.value)\n",
    "print(result)"
   ]
  },
  {
   "cell_type": "code",
   "execution_count": null,
   "metadata": {},
   "outputs": [],
   "source": []
  }
 ],
 "metadata": {
  "kernelspec": {
   "display_name": "Python 3",
   "language": "python",
   "name": "python3"
  },
  "language_info": {
   "codemirror_mode": {
    "name": "ipython",
    "version": 3
   },
   "file_extension": ".py",
   "mimetype": "text/x-python",
   "name": "python",
   "nbconvert_exporter": "python",
   "pygments_lexer": "ipython3",
   "version": "3.7.2"
  }
 },
 "nbformat": 4,
 "nbformat_minor": 2
}
