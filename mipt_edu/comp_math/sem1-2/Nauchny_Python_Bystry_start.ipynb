{
 "cells": [
  {
   "cell_type": "markdown",
   "metadata": {},
   "source": [
    "# Вектора и матрицы\n",
    "\n",
    "Для операций с векторами и матрицами можно использовать структуру данных array из пакета numpy"
   ]
  },
  {
   "cell_type": "code",
   "execution_count": 1,
   "metadata": {},
   "outputs": [
    {
     "name": "stdout",
     "output_type": "stream",
     "text": [
      "[0.  0.5 1.  1.5]\n"
     ]
    }
   ],
   "source": [
    "import numpy as np #подключаем пакет numpy и именуем его как np, чтобы по этому имени обращаться к методам пакета\n",
    "\n",
    "#создадим вектор. На вход в конструктор передается list или tuple\n",
    "x = np.array([0 , 0.5 , 1 , 1.5])\n",
    "print(x)"
   ]
  },
  {
   "cell_type": "markdown",
   "metadata": {},
   "source": [
    "Если была исполнена предыдущая ячейка, то заново подключать пакет numpy не надо. Также остаются доступными переменные из предыдущей ячейки. \n",
    "\n",
    "Теперь создадим вектор, используя метод arange из numpy. Метод создает вектор на основании диапазона с заданным шагом и принимает три числа: первое - начало диапазона, второе - конец диапазона, третье - шаг. В векторе будут последовательно числа в рамках диапазона (конец диапазона не включается) с указанным шагом."
   ]
  },
  {
   "cell_type": "code",
   "execution_count": 2,
   "metadata": {},
   "outputs": [
    {
     "name": "stdout",
     "output_type": "stream",
     "text": [
      "[0.  0.5 1.  1.5]\n",
      "[0.  0.5 1.  1.5 2. ]\n"
     ]
    }
   ],
   "source": [
    "#создаем вектор с помощью arange. При этом мы перезаписываем переменную, созданную ранее\n",
    "x = np.arange (0 , 2, 0.5)\n",
    "print(x)\n",
    "x = np.arange (0 , 2.1, 0.5)\n",
    "print(x)"
   ]
  },
  {
   "cell_type": "markdown",
   "metadata": {},
   "source": [
    "Создадим вектор на основании диапазона с заданым числом элементов и одинаковым расстоянием между соседями с помощью метода linspace (конец диапазона включается). "
   ]
  },
  {
   "cell_type": "code",
   "execution_count": 3,
   "metadata": {},
   "outputs": [
    {
     "data": {
      "text/plain": [
       "array([ 0.,  1.,  2.,  3.,  4.,  5.,  6.,  7.,  8.,  9., 10.])"
      ]
     },
     "execution_count": 3,
     "metadata": {},
     "output_type": "execute_result"
    }
   ],
   "source": [
    "#создаем вектор с помощью linspace\n",
    "x = np.linspace(0., 10., 11) #Здесь 11 - число узлов\n",
    "x"
   ]
  },
  {
   "cell_type": "markdown",
   "metadata": {},
   "source": [
    "А теперь создадим вектор из нулей"
   ]
  },
  {
   "cell_type": "code",
   "execution_count": 4,
   "metadata": {},
   "outputs": [
    {
     "name": "stdout",
     "output_type": "stream",
     "text": [
      "[0. 0. 0. 0. 0.]\n"
     ]
    }
   ],
   "source": [
    "x = np.zeros(5)\n",
    "print(x)"
   ]
  },
  {
   "cell_type": "markdown",
   "metadata": {},
   "source": [
    "И единиц"
   ]
  },
  {
   "cell_type": "code",
   "execution_count": 5,
   "metadata": {},
   "outputs": [
    {
     "data": {
      "text/plain": [
       "array([1., 1., 1., 1., 1.])"
      ]
     },
     "execution_count": 5,
     "metadata": {},
     "output_type": "execute_result"
    }
   ],
   "source": [
    "x = np.ones(5)\n",
    "x"
   ]
  },
  {
   "cell_type": "markdown",
   "metadata": {},
   "source": [
    "Создав array, мы можем менять отдельные его значения следующим образом. Отмечу, что индексация ведется с нуля"
   ]
  },
  {
   "cell_type": "code",
   "execution_count": 6,
   "metadata": {},
   "outputs": [
    {
     "name": "stdout",
     "output_type": "stream",
     "text": [
      "Array =  [3.5 1.  1.  7.  1. ]\n",
      "x[3] =  7.0\n"
     ]
    }
   ],
   "source": [
    "x[0] = 3.5\n",
    "x[3] = 7\n",
    "print('Array = ', x)\n",
    "print('x[3] = ', x[3])"
   ]
  },
  {
   "cell_type": "markdown",
   "metadata": {},
   "source": [
    "Можно взять срез"
   ]
  },
  {
   "cell_type": "code",
   "execution_count": 7,
   "metadata": {},
   "outputs": [
    {
     "name": "stdout",
     "output_type": "stream",
     "text": [
      "[1. 1. 7. 1.]\n"
     ]
    }
   ],
   "source": [
    "#Все элементы с первого (по индексу, но индексация с нуля)\n",
    "print(x[1:])"
   ]
  },
  {
   "cell_type": "code",
   "execution_count": 8,
   "metadata": {},
   "outputs": [
    {
     "name": "stdout",
     "output_type": "stream",
     "text": [
      "[3.5 1.  1.  7. ]\n"
     ]
    }
   ],
   "source": [
    "#Все элементы до последнего, не включая его\n",
    "print(x[:4])"
   ]
  },
  {
   "cell_type": "code",
   "execution_count": 9,
   "metadata": {},
   "outputs": [
    {
     "name": "stdout",
     "output_type": "stream",
     "text": [
      "[1. 7.]\n"
     ]
    }
   ],
   "source": [
    "#Элементы со второго до последнего, не включая его\n",
    "print(x[2:4])"
   ]
  },
  {
   "cell_type": "markdown",
   "metadata": {},
   "source": [
    "С array можно выполнять элементарные операции, которые будут применяться поэлементно"
   ]
  },
  {
   "cell_type": "code",
   "execution_count": 10,
   "metadata": {},
   "outputs": [
    {
     "name": "stdout",
     "output_type": "stream",
     "text": [
      "[0.  0.5 1.  1.5]\n",
      "[1.  1.5 2.  2.5]\n",
      "[0.   0.25 1.   2.25]\n",
      "[0.         0.47942554 0.84147098 0.99749499]\n"
     ]
    }
   ],
   "source": [
    "x = np.arange (0 , 2, 0.5)\n",
    "print(x)\n",
    "print(x+1)\n",
    "print(x**2) # ** - это возведение в степень\n",
    "print(np.sin(x))"
   ]
  },
  {
   "cell_type": "markdown",
   "metadata": {},
   "source": [
    "Аналогичным векторам образом, работают с матрицами"
   ]
  },
  {
   "cell_type": "code",
   "execution_count": 11,
   "metadata": {},
   "outputs": [
    {
     "data": {
      "text/plain": [
       "array([[1, 2, 3],\n",
       "       [4, 5, 6]])"
      ]
     },
     "execution_count": 11,
     "metadata": {},
     "output_type": "execute_result"
    }
   ],
   "source": [
    "#создаем матрицу\n",
    "x = np.array ([[1 , 2 , 3] , [4 , 5 , 6]])\n",
    "x"
   ]
  },
  {
   "cell_type": "code",
   "execution_count": 12,
   "metadata": {},
   "outputs": [
    {
     "data": {
      "text/plain": [
       "array([[0., 0., 0., 0.],\n",
       "       [0., 0., 0., 0.],\n",
       "       [0., 0., 0., 0.]])"
      ]
     },
     "execution_count": 12,
     "metadata": {},
     "output_type": "execute_result"
    }
   ],
   "source": [
    "#создаем матрицу из нулей. Важно, что здесь в метод передается tuple, поэтому скобок четыре, а не две\n",
    "x = np.zeros((3,4))\n",
    "x"
   ]
  },
  {
   "cell_type": "code",
   "execution_count": 13,
   "metadata": {},
   "outputs": [
    {
     "data": {
      "text/plain": [
       "(3, 4)"
      ]
     },
     "execution_count": 13,
     "metadata": {},
     "output_type": "execute_result"
    }
   ],
   "source": [
    "#узнаем размерность матрицы\n",
    "x.shape"
   ]
  },
  {
   "cell_type": "code",
   "execution_count": 14,
   "metadata": {},
   "outputs": [
    {
     "name": "stdout",
     "output_type": "stream",
     "text": [
      "[[1 2 3]\n",
      " [4 5 6]]\n",
      "x[0, 0] =  1\n",
      "x[1, 2] =  6\n"
     ]
    }
   ],
   "source": [
    "x = np.array ([[1 , 2 , 3] , [4 , 5 , 6]])\n",
    "print(x)\n",
    "#доступ к индивидуальным элементам\n",
    "print('x[0, 0] = ', x[0, 0])\n",
    "print('x[1, 2] = ', x[1, 2])"
   ]
  },
  {
   "cell_type": "code",
   "execution_count": 15,
   "metadata": {},
   "outputs": [
    {
     "data": {
      "text/plain": [
       "array([1, 4])"
      ]
     },
     "execution_count": 15,
     "metadata": {},
     "output_type": "execute_result"
    }
   ],
   "source": [
    "#первый столбец\n",
    "x[:,0]"
   ]
  },
  {
   "cell_type": "code",
   "execution_count": 16,
   "metadata": {},
   "outputs": [
    {
     "name": "stdout",
     "output_type": "stream",
     "text": [
      "[4 5 6]\n"
     ]
    }
   ],
   "source": [
    "#вторая строка\n",
    "print(x[1,:])"
   ]
  },
  {
   "cell_type": "code",
   "execution_count": 17,
   "metadata": {},
   "outputs": [
    {
     "name": "stdout",
     "output_type": "stream",
     "text": [
      "[[1. 0. 0.]\n",
      " [0. 1. 0.]\n",
      " [0. 0. 1.]]\n"
     ]
    }
   ],
   "source": [
    "#Единичная матрица\n",
    "I = np.eye(3)\n",
    "print(I)"
   ]
  },
  {
   "cell_type": "code",
   "execution_count": 18,
   "metadata": {},
   "outputs": [
    {
     "data": {
      "text/plain": [
       "array([[1., 1., 1.],\n",
       "       [1., 1., 1.]])"
      ]
     },
     "execution_count": 18,
     "metadata": {},
     "output_type": "execute_result"
    }
   ],
   "source": [
    "#Матрица из единиц\n",
    "Ones = np.ones((2,3))\n",
    "Ones"
   ]
  },
  {
   "cell_type": "markdown",
   "metadata": {},
   "source": [
    "# Стандартные операции линейной алгебры"
   ]
  },
  {
   "cell_type": "markdown",
   "metadata": {},
   "source": [
    "Умножение матриц"
   ]
  },
  {
   "cell_type": "code",
   "execution_count": 19,
   "metadata": {},
   "outputs": [
    {
     "data": {
      "text/plain": [
       "array([1.5, 1.5])"
      ]
     },
     "execution_count": 19,
     "metadata": {},
     "output_type": "execute_result"
    }
   ],
   "source": [
    "import numpy as np\n",
    "\n",
    "A = np.ones((2,3)) #матрица\n",
    "x = np.array([0 , 0.5 , 1]) #вектор\n",
    "b = np.dot(A, x) #умножаем A на x\n",
    "b"
   ]
  },
  {
   "cell_type": "markdown",
   "metadata": {},
   "source": [
    "а можно умножить так"
   ]
  },
  {
   "cell_type": "code",
   "execution_count": 20,
   "metadata": {},
   "outputs": [
    {
     "data": {
      "text/plain": [
       "array([1.5, 1.5])"
      ]
     },
     "execution_count": 20,
     "metadata": {},
     "output_type": "execute_result"
    }
   ],
   "source": [
    "b = A.dot(x)\n",
    "b"
   ]
  },
  {
   "cell_type": "markdown",
   "metadata": {},
   "source": [
    "А теперь решим линейную систему $Ax = b$. Для этого подключим пакет linalg из numpy"
   ]
  },
  {
   "cell_type": "code",
   "execution_count": 25,
   "metadata": {},
   "outputs": [
    {
     "data": {
      "text/plain": [
       "array([1.5, 2. , 2.5])"
      ]
     },
     "execution_count": 25,
     "metadata": {},
     "output_type": "execute_result"
    }
   ],
   "source": [
    "import numpy.linalg as la\n",
    "A = 2*np.eye(3)\n",
    "b = np.array([3, 4, 5])\n",
    "x = la.solve(A, b)\n",
    "x"
   ]
  },
  {
   "cell_type": "markdown",
   "metadata": {},
   "source": [
    "Найдем собственные вектора и собственные числа матрицы $A$. Для этого используем метод eig из linalg"
   ]
  },
  {
   "cell_type": "code",
   "execution_count": 26,
   "metadata": {},
   "outputs": [
    {
     "name": "stdout",
     "output_type": "stream",
     "text": [
      "[[ 0 -2]\n",
      " [ 1  3]]\n",
      "[1. 2.]\n",
      "[[-0.89442719  0.70710678]\n",
      " [ 0.4472136  -0.70710678]]\n"
     ]
    },
    {
     "data": {
      "text/plain": [
       "array([-0.89442719,  0.4472136 ])"
      ]
     },
     "execution_count": 26,
     "metadata": {},
     "output_type": "execute_result"
    }
   ],
   "source": [
    "A = np.array([[0,-2],[1,3]])\n",
    "print(A)\n",
    "evals, evecs = la.eig(A)\n",
    "print(evals) #собственные числа\n",
    "print(evecs) #собственные вектора\n",
    "A.dot(evecs[:,0]) #Ax = x"
   ]
  },
  {
   "cell_type": "markdown",
   "metadata": {},
   "source": [
    "Обращение матриц с помощью метода inv из linalg"
   ]
  },
  {
   "cell_type": "code",
   "execution_count": 27,
   "metadata": {},
   "outputs": [
    {
     "name": "stdout",
     "output_type": "stream",
     "text": [
      "[[1. 0.]\n",
      " [0. 1.]]\n"
     ]
    }
   ],
   "source": [
    "I = np.dot(la.inv(A), A)\n",
    "print(I)"
   ]
  },
  {
   "cell_type": "markdown",
   "metadata": {},
   "source": [
    "Транспонирование матрицы"
   ]
  },
  {
   "cell_type": "code",
   "execution_count": 28,
   "metadata": {},
   "outputs": [
    {
     "data": {
      "text/plain": [
       "array([[ 0,  1],\n",
       "       [-2,  3]])"
      ]
     },
     "execution_count": 28,
     "metadata": {},
     "output_type": "execute_result"
    }
   ],
   "source": [
    "A.T"
   ]
  },
  {
   "cell_type": "markdown",
   "metadata": {},
   "source": [
    "Нормы $n$-мерных векторов:$\\begin{Vmatrix}x\\end{Vmatrix}_p = \\left(\\sum_i \\begin{vmatrix}x_i\\end{vmatrix}^p \\right)^{1/p}$"
   ]
  },
  {
   "cell_type": "code",
   "execution_count": 29,
   "metadata": {},
   "outputs": [
    {
     "name": "stdout",
     "output_type": "stream",
     "text": [
      "n1 =  7.0\n",
      "n2 =  5.0\n",
      "n_inf =  4.0\n"
     ]
    }
   ],
   "source": [
    "import numpy as np\n",
    "import numpy.linalg as la\n",
    "\n",
    "x = np.array([3.,4.])\n",
    "#норма l1, первая норма\n",
    "n1 = la.norm(x, 1)\n",
    "print('n1 = ', n1)\n",
    "#норма l2, вторая норма\n",
    "n2 = la.norm(x, 2)\n",
    "print('n2 = ', n2)\n",
    "#норма l_inf\n",
    "n_inf = la.norm(x, np.inf)\n",
    "print('n_inf = ', n_inf)"
   ]
  },
  {
   "cell_type": "markdown",
   "metadata": {},
   "source": [
    "Аналогично вычисляются матричные нормы, порожденные соответствующими векторными нормами"
   ]
  },
  {
   "cell_type": "code",
   "execution_count": null,
   "metadata": {},
   "outputs": [],
   "source": [
    "A = np.array([[1,2],[3,4]])\n",
    "\n",
    "#норма l1, первая норма\n",
    "n1 = la.norm(A, 1)\n",
    "print('n1 = ', n1)\n",
    "#норма l2, вторая норма\n",
    "n2 = la.norm(A, 2)\n",
    "print('n2 = ', n2)\n",
    "#норма l_inf\n",
    "n_inf = la.norm(A, np.inf)\n",
    "print('n_inf = ', n_inf)"
   ]
  },
  {
   "cell_type": "markdown",
   "metadata": {},
   "source": [
    "Вычисление числа обусловленности матрицы $\\mu = \\begin{Vmatrix}A\\end{Vmatrix}\\cdot\\begin{Vmatrix}A^{-1}\\end{Vmatrix}$"
   ]
  },
  {
   "cell_type": "code",
   "execution_count": 30,
   "metadata": {},
   "outputs": [
    {
     "data": {
      "text/plain": [
       "20.999999999999996"
      ]
     },
     "execution_count": 30,
     "metadata": {},
     "output_type": "execute_result"
    }
   ],
   "source": [
    "A = np.array([[1,2],[3,4]])\n",
    "\n",
    "mu_1 = la.cond(A, 1)\n",
    "mu_1"
   ]
  },
  {
   "cell_type": "markdown",
   "metadata": {},
   "source": [
    "# Визуализация"
   ]
  },
  {
   "cell_type": "markdown",
   "metadata": {},
   "source": [
    "Для дальнейших демонстрационных примеров нам потребуется разобраться с некоторыми способами визуализации данных в python. Для визуализации будем использовать пакет matplotlib.pyplot. Построим график $y = sin(x)$"
   ]
  },
  {
   "cell_type": "code",
   "execution_count": 31,
   "metadata": {},
   "outputs": [
    {
     "data": {
      "text/plain": [
       "[<matplotlib.lines.Line2D at 0x81b4da0>]"
      ]
     },
     "execution_count": 31,
     "metadata": {},
     "output_type": "execute_result"
    },
    {
     "data": {
      "image/png": "[encoded data removed]",
      "text/plain": [
       "<Figure size 432x288 with 1 Axes>"
      ]
     },
     "metadata": {},
     "output_type": "display_data"
    }
   ],
   "source": [
    "#эта магическая ф-я нужна для отрисовки графиков в jupyter notebook\n",
    "%matplotlib inline \n",
    "\n",
    "import matplotlib.pyplot as plt\n",
    "import numpy as np\n",
    "\n",
    "x = np.arange(-3.14 , 3.14 , 0.01) #x-data\n",
    "y = np.sin(x) #y-data. Функция от массива после поэлементного применения на выходе даст массив \n",
    "plt.plot(x,y) #строим график\n",
    "#plt.show()# - если бы inline - ф-я в начале не использовалась бы, то для отрисовки надо было бы вызвать этот метод"
   ]
  },
  {
   "cell_type": "markdown",
   "metadata": {},
   "source": [
    "А теперь проведем небольшой тюнинг графика, добавив туда еще график косинуса"
   ]
  },
  {
   "cell_type": "code",
   "execution_count": 32,
   "metadata": {},
   "outputs": [
    {
     "data": {
      "image/png": "[encoded data removed]",
      "text/plain": [
       "<Figure size 432x288 with 1 Axes>"
      ]
     },
     "metadata": {},
     "output_type": "display_data"
    }
   ],
   "source": [
    "y2 = np.cos(x) # y-data для косинуса\n",
    "plt.plot(x,y, label = 'sin(x)') #label = 'sin(x)' - дополнительный параметр, указывающий на то,\n",
    "                                #как будет подписан график в легенде\n",
    "plt.plot(x,y2, label = 'cos(x)')\n",
    "plt.legend() #отрисовываем легеду. Здесь в верхнем левом углу, но можно поменять\n",
    "plt.grid() #добавляем сетку на график\n",
    "plt.xlabel('x') #подписываем ось x\n",
    "plt.title('График косинуса и синуса') #подписываем график\n",
    "plt.savefig('myplot.png') #сохраняем график как картинку\n",
    "\n",
    "#тюниниг тиксов для эстетов. Можно расскоментировать следующую строку и посмотреть что будет\n",
    "#plt.xticks([-np.pi, -np.pi/2, 0, np.pi/2, np.pi],[r'$-\\pi$', r'$-\\pi/2$', r'$0$', r'$+\\pi/2$', r'$+\\pi$'])"
   ]
  },
  {
   "cell_type": "markdown",
   "metadata": {},
   "source": [
    "В слующем примере представлена отрисовка нескольких графиков в рамках одной картинки. Используется метод $sublot(numRows , numCols , plotNum)$. numRows , numCols - число строк и столбцов в матрице графиков на этой картинке, где \"элемент\" матрицы - отдельный график. plotNum - порядковый номер графика"
   ]
  },
  {
   "cell_type": "code",
   "execution_count": 33,
   "metadata": {},
   "outputs": [
    {
     "name": "stdout",
     "output_type": "stream",
     "text": [
      "[1.e-01 1.e+00 1.e+01 1.e+02 1.e+03]\n"
     ]
    },
    {
     "data": {
      "image/png": "[encoded data removed]",
      "text/plain": [
       "<Figure size 432x288 with 3 Axes>"
      ]
     },
     "metadata": {},
     "output_type": "display_data"
    }
   ],
   "source": [
    "x = np.linspace(-1,3,5)\n",
    "y3 = np.logspace(-1,3,5) #эквивалетно 10**x\n",
    "print(y3)\n",
    "\n",
    "plt.subplot(3,1,1)\n",
    "plt.plot(x, y3, '+r') #изобразим только значения в узлах красными крестами\n",
    "plt.yscale('log') #логарифмическая шкала по оси y\n",
    "plt.xticks([]) #убираем тиксы, оставляя только на последнем графике \n",
    "plt.subplot(3,1,2)\n",
    "plt.plot(x, y3, 'og') #или зелеными кружками\n",
    "plt.yscale('log')\n",
    "plt.xticks([]) #убираем тиксы, оставляя только на последнем графике\n",
    "plt.subplot(3,1,3)\n",
    "plt.plot(x, y3, '-*b', linewidth=1) #или синими звездочками, соединенными линиями толщины 1\n",
    "plt.yscale('log')\n"
   ]
  },
  {
   "cell_type": "markdown",
   "metadata": {
    "collapsed": true
   },
   "source": [
    "# Интерполяция"
   ]
  },
  {
   "cell_type": "markdown",
   "metadata": {},
   "source": [
    "В задаче интерполяции по набору точек $(x_i, y_i)$ необходимо восстановить непрерывную ф-ю, проходящую чрез все эти точки. Для интерполяции будем использовать пакет scipy.interpolate . В следующим примере будут продемонстрированы два виде интерполяции - кусочно-линейная интерполяция (соединяем соседние точки прямыми) и интерполяция сплайнами (два соседних узла соединяются кубическим полиномом с определенными условиями сшивки). "
   ]
  },
  {
   "cell_type": "code",
   "execution_count": 38,
   "metadata": {},
   "outputs": [
    {
     "data": {
      "text/plain": [
       "Text(0.5,0,'x')"
      ]
     },
     "execution_count": 38,
     "metadata": {},
     "output_type": "execute_result"
    },
    {
     "data": {
      "image/png": "[encoded data removed]",
      "text/plain": [
       "<Figure size 432x288 with 1 Axes>"
      ]
     },
     "metadata": {},
     "output_type": "display_data"
    }
   ],
   "source": [
    "%matplotlib inline \n",
    "\n",
    "import matplotlib.pyplot as plt\n",
    "import numpy as np\n",
    "import scipy.interpolate as sci\n",
    "\n",
    "#объявлем функцию, которая затем вернет точки для интерполяции\n",
    "def create_data (n):\n",
    "    # n - число точек\n",
    "    x = np.linspace (0 , 5 , n ) #диапазон, где определены точки\n",
    "    y = -x**2 #значения функции в узлах\n",
    "    y += 2*np.random.normal( size = len ( x )) #добавим немного случайности в каждый элемент\n",
    "    return x, y\n",
    "\n",
    "#теперь начинается основная часть программы\n",
    "n = 10\n",
    "x, y = create_data(n)\n",
    "\n",
    "#зададим более подробную сетку, на которой будем воcстанавливать значения\n",
    "xfine = np.linspace (0, 5, n*100 + 1)\n",
    "#Далее используется ф-я interp1d, которая возвращает интерполянт (тоже ф-я). \n",
    "#Она затем будем возвращать интерполяционное значение по переданному аргументу\n",
    "\n",
    "#кусочно-линейный интерполянт\n",
    "y1 = sci.interp1d(x, y, kind = 'linear')\n",
    "#сплайн-интерполянт\n",
    "y2 = sci.interp1d(x, y, kind = 'quadratic')\n",
    "\n",
    "plt.plot(x, y , 'o' , label = 'data points' )\n",
    "plt.plot(xfine, y1(xfine), label = 'linear')\n",
    "plt.plot(xfine, y2(xfine), label = 'quadratic')\n",
    "plt.legend()\n",
    "plt.xlabel('x')\n"
   ]
  },
  {
   "cell_type": "markdown",
   "metadata": {},
   "source": [
    "В следующем примере восстановим ф-ю с помощью полиномиальной интерполяции (проведем через $n$ узлов полином степени $n-1$). Для этого используем метод polyfit из пакета numpy"
   ]
  },
  {
   "cell_type": "code",
   "execution_count": 35,
   "metadata": {},
   "outputs": [
    {
     "data": {
      "text/plain": [
       "<matplotlib.legend.Legend at 0x8c9fac8>"
      ]
     },
     "execution_count": 35,
     "metadata": {},
     "output_type": "execute_result"
    },
    {
     "data": {
      "image/png": "[encoded data removed]",
      "text/plain": [
       "<Figure size 432x288 with 1 Axes>"
      ]
     },
     "metadata": {},
     "output_type": "display_data"
    }
   ],
   "source": [
    "%matplotlib inline \n",
    "\n",
    "import matplotlib.pyplot as plt\n",
    "import numpy as np\n",
    "\n",
    "# сетка\n",
    "xdata = np.linspace(0, 5, 6)\n",
    "# значения в узлах\n",
    "ydata = np.array([0.0 , 0.8 , 0.9 , 0.1 , -0.8 , -1.0])\n",
    "\n",
    "#ф-я возвращает коэффициенты при членах полинома пятой степени, проходящем через все узлы.\n",
    "#первый коэффициент при члене старшей степени и далее по убывающей\n",
    "z = np.polyfit(xdata ,ydata, 5)\n",
    "\n",
    "#метод poly1d возврашает ф-ю, которая будет давать значение полинома с коэффициентами z по значения аргумента\n",
    "p = np.poly1d(z)\n",
    "#подробная сетка для отрисовки интерполянта\n",
    "xfine = np.linspace (0, 5, 501)\n",
    "y = p(xfine)\n",
    "\n",
    "plt.plot(xdata , ydata, 'o', label = 'data')\n",
    "plt.plot (xfine , y , label = 'curve')\n",
    "plt.ylabel ('y')\n",
    "plt.xlabel ('x')\n",
    "plt.legend()\n"
   ]
  },
  {
   "cell_type": "markdown",
   "metadata": {
    "collapsed": true
   },
   "source": [
    "# Решение нелинейных уравнений"
   ]
  },
  {
   "cell_type": "markdown",
   "metadata": {},
   "source": [
    "Решим нелинейное уравнение $f(x) = 0$. Будем искать корни уравнения $x^3 -2x^2 = 0$.Первый пример - метод бисекции (половинного деления). Используем пакет scipy.optimize"
   ]
  },
  {
   "cell_type": "code",
   "execution_count": 39,
   "metadata": {},
   "outputs": [
    {
     "name": "stdout",
     "output_type": "stream",
     "text": [
      "The root x is approximately x = 2.00000023842\n",
      "The error is -2.38419e-07 .\n"
     ]
    }
   ],
   "source": [
    "import scipy.optimize as sco\n",
    "\n",
    "#Задем функцию f(x)= x^3 -2x^2. Ее корни x =0 (кратности два) и x = 2\n",
    "def f (x):\n",
    "    return x**3 - 2*x**2\n",
    "\n",
    "#основная программа\n",
    "#передаем в метод функцию корни которой ищем, начало области локализации корня, конец области локализации корня\n",
    "#и желаемую точность (абсолютная ошибка).\n",
    "#Одно из требований метода - значения ф-и на краях области локализации разных знаков \n",
    "x = sco.bisect(f , 1.5, 3, xtol =1e-6)\n",
    "\n",
    "print('The root x is approximately x = %.12g' % x )\n",
    "print('The error is %g .' % (2 - x ))"
   ]
  },
  {
   "cell_type": "markdown",
   "metadata": {},
   "source": [
    "В следующем примере для той же задачи будет использован более \"продвинутый\" метод поиска корня fsolve. Для алгоритма нужно только начальное приближение, но сходимость к решению при этом не гарантируется (например, из-за плохо выбора начального приближения)\n"
   ]
  },
  {
   "cell_type": "code",
   "execution_count": 45,
   "metadata": {},
   "outputs": [
    {
     "name": "stdout",
     "output_type": "stream",
     "text": [
      "The root x is approximately x = 2.000000000000006217\n",
      "The error is -6.21725e-15 .\n"
     ]
    }
   ],
   "source": [
    "from scipy.optimize import fsolve\n",
    "\n",
    "\"\"\"\n",
    "def f(x):\n",
    "    return x**3 - 2*x**2\n",
    "\n",
    "#второй аргумент - начальное приближение\n",
    "x = fsolve(f , 3)\n",
    "\"\"\"\n",
    "\n",
    "#второй аргумент - начальное приближение. Для разнообразия передадим первым аргументом анонимную функцию \n",
    "#(тот же самый результат получится, если расскоментировать предыдущий код вместо следующей строки)\n",
    "x = fsolve(lambda x: x**3 - 2*x**2, 1.7)\n",
    "\n",
    "print('The root x is approximately x = %.19g' % x )\n",
    "print('The error is %g .' % (2 - x ))"
   ]
  },
  {
   "cell_type": "markdown",
   "metadata": {
    "collapsed": true
   },
   "source": [
    "# Интегрирование"
   ]
  },
  {
   "cell_type": "markdown",
   "metadata": {},
   "source": [
    "Вычислим определенный интеграл вида $I = \\int_a^b f(x) dx$. Воспользуемся ф-й quad() из пакета scipy.integrate. "
   ]
  },
  {
   "cell_type": "code",
   "execution_count": 46,
   "metadata": {},
   "outputs": [
    {
     "name": "stdout",
     "output_type": "stream",
     "text": [
      "I = -0.000000, error =1.46797e-09) \n"
     ]
    }
   ],
   "source": [
    "from math import cos, sin, exp, pi\n",
    "import scipy.integrate as scii\n",
    "\n",
    "#ф-я, которую интегрируем\n",
    "foo = lambda x: cos(2*pi*x)\n",
    "\n",
    "#первым аргументом передаем ф-ю, далее пределы интегрирования. Возвращает ответ res и ошибку вычислений err\n",
    "res, err = scii.quad (foo, -1, 1)\n",
    "print('I = %f, error =%g) '%(res, err))"
   ]
  },
  {
   "cell_type": "markdown",
   "metadata": {},
   "source": [
    "Перед интегрирование неплохо визуализировать подинтегральную ф-ю, чтобы понять, есть ли у нее особенности"
   ]
  },
  {
   "cell_type": "markdown",
   "metadata": {},
   "source": [
    "# Решение задачи Коши для ОДУ"
   ]
  },
  {
   "cell_type": "markdown",
   "metadata": {},
   "source": [
    "Рассмотрим задачу $$ \\frac{dy}{dx} = f(y, x), y(x_0) = y_0$$ Для ее решения воспользуемся ф-й odeint из пакета scipy.integrate . Решим задачу $$ \\frac{dy}{dx} = -2yx, y(0) = 1$$ в области $[0, 2]$"
   ]
  },
  {
   "cell_type": "code",
   "execution_count": 47,
   "metadata": {},
   "outputs": [
    {
     "data": {
      "text/plain": [
       "Text(0,0.5,'y(x)')"
      ]
     },
     "execution_count": 47,
     "metadata": {},
     "output_type": "execute_result"
    },
    {
     "data": {
      "image/png": "[encoded data removed]",
      "text/plain": [
       "<Figure size 432x288 with 1 Axes>"
      ]
     },
     "metadata": {},
     "output_type": "display_data"
    }
   ],
   "source": [
    "%matplotlib inline \n",
    "import matplotlib.pyplot as plt\n",
    "import scipy.integrate as scii\n",
    "import scipy as sc\n",
    "\n",
    "#правая часть\n",
    "f = lambda y, x: -2*y*x\n",
    "\n",
    "#начальное условие и границы области\n",
    "y0 = 1\n",
    "a = 0\n",
    "b = 2\n",
    "\n",
    "#сетка\n",
    "x = sc.linspace(a, b, 201)\n",
    "#передаем правую часть, начальное условие и сетку. Получаем решение на сетке\n",
    "y = scii.odeint(f, y0, x)\n",
    "\n",
    "plt.plot(x , y)\n",
    "plt.xlabel('t')\n",
    "plt.ylabel('y(x)')"
   ]
  },
  {
   "cell_type": "code",
   "execution_count": null,
   "metadata": {},
   "outputs": [],
   "source": []
  },
  {
   "cell_type": "code",
   "execution_count": null,
   "metadata": {},
   "outputs": [],
   "source": []
  }
 ],
 "metadata": {
  "anaconda-cloud": {},
  "kernelspec": {
   "display_name": "Python 3",
   "language": "python",
   "name": "python3"
  },
  "language_info": {
   "codemirror_mode": {
    "name": "ipython",
    "version": 3
   },
   "file_extension": ".py",
   "mimetype": "text/x-python",
   "name": "python",
   "nbconvert_exporter": "python",
   "pygments_lexer": "ipython3",
   "version": "3.7.2"
  }
 },
 "nbformat": 4,
 "nbformat_minor": 2
}
