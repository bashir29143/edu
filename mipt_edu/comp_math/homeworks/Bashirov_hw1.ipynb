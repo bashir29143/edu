{
 "cells": [
  {
   "cell_type": "code",
   "execution_count": 1,
   "metadata": {},
   "outputs": [],
   "source": [
    "import numpy as np\n",
    "import numpy.linalg as la\n",
    "from matplotlib import pyplot as plt"
   ]
  },
  {
   "cell_type": "code",
   "execution_count": 2,
   "metadata": {},
   "outputs": [],
   "source": [
    "def get_diff(u, l, m, h):\n",
    "    n = u.size\n",
    "    v = np.linspace(-l,m, n)\n",
    "    A = np.fliplr(np.vander(v, v.size)).T\n",
    "    b = np.zeros(n)\n",
    "    b[1] = 1\n",
    "    alpha = la.solve(A,b)\n",
    "    diff = 1/h*alpha.dot(u.T)\n",
    "    return diff\n"
   ]
  },
  {
   "cell_type": "markdown",
   "metadata": {},
   "source": [
    "Для 3 точек(p = 2 теоретически)"
   ]
  },
  {
   "cell_type": "code",
   "execution_count": 3,
   "metadata": {},
   "outputs": [],
   "source": [
    "a = 0\n",
    "b = 0.2\n",
    "k = 3\n",
    "\n",
    "h = (b-a)/(k-1)\n",
    "\n",
    "x = np.linspace(a, b, k)\n",
    "\n",
    "u = np.exp(x)\n",
    "\n",
    "diff = get_diff(u, 0, k-1, h)\n",
    "\n",
    "eps_h = np.abs(np.exp(0) - diff) #ошибка для h\n",
    "\n"
   ]
  },
  {
   "cell_type": "code",
   "execution_count": 4,
   "metadata": {},
   "outputs": [],
   "source": [
    "h = (b/2-a)/(k-1)\n",
    "\n",
    "x = np.linspace(a, b/2, k)\n",
    "\n",
    "u = np.exp(x)\n",
    "\n",
    "diff = get_diff(u, 0, k-1, h)\n",
    "\n",
    "eps_h2 = np.abs(np.exp(0) - diff) #ошибка для h/2\n"
   ]
  },
  {
   "cell_type": "code",
   "execution_count": 5,
   "metadata": {},
   "outputs": [
    {
     "name": "stdout",
     "output_type": "stream",
     "text": [
      "2.0548488541544963\n"
     ]
    }
   ],
   "source": [
    "p = np.log2(eps_h/eps_h2)\n",
    "print(p)"
   ]
  },
  {
   "cell_type": "markdown",
   "metadata": {},
   "source": [
    "Теперь для 5 точек(p = 4 теоретически)"
   ]
  },
  {
   "cell_type": "code",
   "execution_count": 6,
   "metadata": {},
   "outputs": [],
   "source": [
    "a = 0\n",
    "b = 0.2\n",
    "k = 5\n",
    "\n",
    "h = (b-a)/(k-1)\n",
    "\n",
    "x = np.linspace(a, b, k)\n",
    "\n",
    "u = np.exp(x)\n",
    "\n",
    "diff = get_diff(u, 0, k-1, h)\n",
    "\n",
    "eps_h = np.abs(np.exp(0) - diff) #ошибка для h\n"
   ]
  },
  {
   "cell_type": "code",
   "execution_count": 7,
   "metadata": {},
   "outputs": [],
   "source": [
    "h = (b/2-a)/(k-1)\n",
    "\n",
    "x = np.linspace(a, b/2, k)\n",
    "\n",
    "u = np.exp(x)\n",
    "\n",
    "diff = get_diff(u, 0, k-1, h)\n",
    "\n",
    "eps_h2 = np.abs(np.exp(0) - diff) #ошибка для h/2\n"
   ]
  },
  {
   "cell_type": "code",
   "execution_count": 8,
   "metadata": {},
   "outputs": [
    {
     "name": "stdout",
     "output_type": "stream",
     "text": [
      "4.0605421732203935\n"
     ]
    }
   ],
   "source": [
    "p = np.log2(eps_h/eps_h2)\n",
    "print(p)"
   ]
  },
  {
   "cell_type": "markdown",
   "metadata": {},
   "source": [
    "Исследуем зависимость p(h)"
   ]
  },
  {
   "cell_type": "code",
   "execution_count": 10,
   "metadata": {},
   "outputs": [
    {
     "name": "stdout",
     "output_type": "stream",
     "text": [
      "[0.01, 0.004641588833612777, 0.0021544346900318843, 0.001, 0.0004641588833612782, 0.00021544346900318823, 0.0001, 4.641588833612772e-05, 2.1544346900318867e-05, 1e-05]\n",
      "[2.00541754480838, 2.002512699024566, 2.0011658515630146, 2.000534041368568, 2.000204895333213, 2.001009547094155, 2.0008183409379905, 2.079061811145294, 1.4463688281744864, 2.9018221888022935]\n"
     ]
    },
    {
     "data": {
      "image/png": "[encoded data removed]",
      "text/plain": [
       "<Figure size 432x288 with 1 Axes>"
      ]
     },
     "metadata": {
      "needs_background": "light"
     },
     "output_type": "display_data"
    }
   ],
   "source": [
    "h_array = list()\n",
    "p_array = list()\n",
    "\n",
    "for i in range(10):\n",
    "    h_array.append(10**(-i/3-2))\n",
    "    \n",
    "print(h_array)\n",
    "\n",
    "for h in h_array:  \n",
    "    a = 0\n",
    "    k = 3\n",
    "    b = a + (k-1)*h\n",
    "    x = np.linspace(a, b, k)\n",
    "    u = np.exp(x)\n",
    "    diff = get_diff(u, 0, k-1, h)\n",
    "    eps_h = np.abs(np.exp(0) - diff) #ошибка для h\n",
    "    x = np.linspace(a, b/2, k)\n",
    "    u = np.exp(x)\n",
    "    diff = get_diff(u, 0, k-1, h/2)\n",
    "    eps_h2 = np.abs(np.exp(0) - diff) #ошибка для h/2\n",
    "    p_array.append(np.log2(eps_h/eps_h2))\n",
    "\n",
    "print(p_array)\n",
    "fig = plt.figure()\n",
    "ax = fig.gca()\n",
    "ax.plot(h_array, p_array,'.-')\n",
    "ax.set_yscale('log')\n",
    "ax.set_xscale('log')\n"
   ]
  },
  {
   "cell_type": "markdown",
   "metadata": {},
   "source": [
    "При большом шаге идет отклонение от теоретического p (равного 4), так как коэфф C в формуле $\\epsilon_h = Ch^p$ уже нельзя считать постоянным, а при маленьком шаге ошибка округления связанная с машинным нулем вносит свой вклад."
   ]
  },
  {
   "cell_type": "code",
   "execution_count": null,
   "metadata": {},
   "outputs": [],
   "source": []
  }
 ],
 "metadata": {
  "kernelspec": {
   "display_name": "Python 3",
   "language": "python",
   "name": "python3"
  },
  "language_info": {
   "codemirror_mode": {
    "name": "ipython",
    "version": 3
   },
   "file_extension": ".py",
   "mimetype": "text/x-python",
   "name": "python",
   "nbconvert_exporter": "python",
   "pygments_lexer": "ipython3",
   "version": "3.7.2"
  }
 },
 "nbformat": 4,
 "nbformat_minor": 2
}
