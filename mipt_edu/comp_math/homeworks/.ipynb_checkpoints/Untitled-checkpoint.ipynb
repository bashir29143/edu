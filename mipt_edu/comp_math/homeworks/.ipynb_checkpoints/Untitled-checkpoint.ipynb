{
 "cells": [
  {
   "cell_type": "code",
   "execution_count": 1,
   "metadata": {},
   "outputs": [],
   "source": [
    "import pandas as pd\n",
    "import numpy as np\n",
    "import numpy.linalg as la\n",
    "from sklearn.linear_model import Lasso\n",
    "from scipy import integrate\n",
    "from scipy import interpolate"
   ]
  },
  {
   "cell_type": "markdown",
   "metadata": {},
   "source": [
    "## Напишем необходимые функции:"
   ]
  },
  {
   "cell_type": "code",
   "execution_count": 2,
   "metadata": {},
   "outputs": [],
   "source": [
    "def incr_data(data):\n",
    "    f = interpolate.interp1d(np.arange(len(data)), data)\n",
    "    incr_data = f(np.arange(0, len(data) - 1, 0.1))\n",
    "    return incr_data"
   ]
  },
  {
   "cell_type": "code",
   "execution_count": 3,
   "metadata": {},
   "outputs": [],
   "source": [
    "def sigmoid(t):\n",
    "    return [1/(1 + np.exp(-i)) for i in t]"
   ]
  },
  {
   "cell_type": "code",
   "execution_count": 4,
   "metadata": {},
   "outputs": [],
   "source": [
    "def convert_to_np(stocks_csv):\n",
    "    stocks_pd = pd.read_csv(stocks_csv, sep = ',', header = 0)\n",
    "    rev_stocks = np.array(stocks_pd['Цена'])[::-1]\n",
    "    rev_stocks = [x.replace('.','') for x in rev_stocks]\n",
    "    dig_stocks = np.array([float(x.replace(',','.')) for x in rev_stocks])\n",
    "    return dig_stocks"
   ]
  },
  {
   "cell_type": "code",
   "execution_count": 5,
   "metadata": {},
   "outputs": [],
   "source": [
    "def get_y(pred_window, relevant_cost, profit_level, loss_level):\n",
    "    for i in range(len(pred_window)):\n",
    "        if pred_window[i] > relevant_cost*(1 + profit_level/100):\n",
    "            return 1\n",
    "        elif pred_window[i] < relevant_cost*(1 - loss_level/100):\n",
    "            return -1\n",
    "    return 0"
   ]
  },
  {
   "cell_type": "markdown",
   "metadata": {},
   "source": [
    "profit_level > 0\n",
    "\n",
    "0 < loss_level < 100"
   ]
  },
  {
   "cell_type": "code",
   "execution_count": 6,
   "metadata": {},
   "outputs": [],
   "source": [
    "def get_x(data_window):\n",
    "    int_array = get_int_array(data_window)\n",
    "    diff_array = get_diff_array(data_window)\n",
    "    return np.concatenate((incr_data(data_window), sigmoid(int_array), sigmoid(diff_array)))"
   ]
  },
  {
   "cell_type": "code",
   "execution_count": 7,
   "metadata": {},
   "outputs": [],
   "source": [
    "def get_int_array(data):\n",
    "    int_array = []\n",
    "    for j in range(len(data)):\n",
    "        int_array.append(integrate.trapz(data[:-j], [i for i in range(len(data[:-j]))]))\n",
    "    return int_array"
   ]
  },
  {
   "cell_type": "code",
   "execution_count": 8,
   "metadata": {},
   "outputs": [],
   "source": [
    "def get_diff_array(data):\n",
    "    diff_array = []\n",
    "    for j in range(len(data) - 4):\n",
    "        diff_array.append((data[j] - 8*data[j+1] + 8*data[j+3] - data[j+4])/12)\n",
    "    return diff_array"
   ]
  },
  {
   "cell_type": "code",
   "execution_count": 9,
   "metadata": {},
   "outputs": [],
   "source": [
    "def get_dataset(stocks_array, data_len, pred_len, profit_level, loss_level):\n",
    "    x_array = []\n",
    "    y_array = []\n",
    "    \n",
    "    for i in range(len(stocks_array) - data_len - pred_len):\n",
    "        data_window = stocks_array[i : i + data_len]/stocks_array[i : i + data_len].max()\n",
    "        pred_window = stocks_array[i + data_len : i + data_len + pred_len]/stocks_array[i + data_len: i + data_len + pred_len].max()\n",
    "        relevant_cost = data_window[-1]\n",
    "        \n",
    "        x_array.append(get_x(data_window))\n",
    "        \n",
    "        y_array.append(get_y(pred_window, relevant_cost, profit_level, loss_level))                   \n",
    "    \n",
    "    return x_array, y_array\n",
    "        \n",
    "        "
   ]
  },
  {
   "cell_type": "code",
   "execution_count": 10,
   "metadata": {},
   "outputs": [],
   "source": [
    "def get_acc(Y_test, Y_pred):\n",
    "    s = 0\n",
    "    l = 0\n",
    "    \n",
    "    if len(Y_test) != len(Y_pred):\n",
    "        return 'Error: different lengthes'\n",
    "    \n",
    "    for i in range(len(Y_pred)):\n",
    "        if Y_pred[i] != 0:\n",
    "            s += Y_pred[i]*Y_test[i]\n",
    "            l += 1\n",
    "    acc = s/l\n",
    "    \n",
    "    return acc, l/len(Y_pred)\n",
    "    "
   ]
  },
  {
   "cell_type": "markdown",
   "metadata": {},
   "source": [
    "## Создадим модель и датасет"
   ]
  },
  {
   "cell_type": "code",
   "execution_count": 11,
   "metadata": {},
   "outputs": [],
   "source": [
    "stocks_VISA = convert_to_np('VISA.csv')\n",
    "stocks_FXIT = convert_to_np('FXIT.csv')"
   ]
  },
  {
   "cell_type": "code",
   "execution_count": 12,
   "metadata": {},
   "outputs": [
    {
     "data": {
      "text/plain": [
       "array([5380., 5339., 5366., 5378., 5412., 5417., 5360., 5348., 5436.,\n",
       "       5459.])"
      ]
     },
     "execution_count": 12,
     "metadata": {},
     "output_type": "execute_result"
    }
   ],
   "source": [
    "#stocks_VISA[-10:]\n",
    "stocks_FXIT[-10:]"
   ]
  },
  {
   "cell_type": "code",
   "execution_count": 13,
   "metadata": {},
   "outputs": [],
   "source": [
    "prediction_model = Lasso(alpha = 0.001)\n",
    "\n",
    "prediction_model.fit(get_dataset(stocks_VISA[:-500], 60, 20, 10, 10)[0], get_dataset(stocks_VISA[:-500], 60, 20, 3, 3)[1])\n",
    "\n",
    "test_X = get_dataset(stocks_VISA[-500:], 60, 20, 3, 3)[0]\n",
    "\n",
    "test_Y = get_dataset(stocks_VISA[-500:], 60, 20, 3, 3)[1]"
   ]
  },
  {
   "cell_type": "code",
   "execution_count": 14,
   "metadata": {},
   "outputs": [],
   "source": [
    "Y_pred = []\n",
    "\n",
    "for i in prediction_model.predict(test_X):\n",
    "    if i > 0.5:\n",
    "        Y_pred.append(1)\n",
    "    elif i < -0.5:\n",
    "        Y_pred.append(-1)\n",
    "    else:\n",
    "        Y_pred.append(0)\n",
    "        "
   ]
  },
  {
   "cell_type": "code",
   "execution_count": 15,
   "metadata": {},
   "outputs": [
    {
     "data": {
      "text/plain": [
       "(0.9757281553398058, 0.49047619047619045)"
      ]
     },
     "execution_count": 15,
     "metadata": {},
     "output_type": "execute_result"
    }
   ],
   "source": [
    "get_acc(test_Y, Y_pred)"
   ]
  },
  {
   "cell_type": "markdown",
   "metadata": {},
   "source": [
    "### Проверим модель на FXIT"
   ]
  },
  {
   "cell_type": "code",
   "execution_count": 16,
   "metadata": {},
   "outputs": [],
   "source": [
    "test_FXIT_X = get_dataset(stocks_FXIT, 60, 20, 3, 3)[0]\n",
    "\n",
    "test_FXIT_Y = get_dataset(stocks_FXIT, 60, 20, 3, 3)[1]"
   ]
  },
  {
   "cell_type": "code",
   "execution_count": 17,
   "metadata": {},
   "outputs": [],
   "source": [
    "Y_FXIT_pred = []\n",
    "\n",
    "for i in prediction_model.predict(test_FXIT_X):\n",
    "    if i > 0.5:\n",
    "        Y_FXIT_pred.append(1)\n",
    "    elif i < -0.5:\n",
    "        Y_FXIT_pred.append(-1)\n",
    "    else:\n",
    "        Y_FXIT_pred.append(0)"
   ]
  },
  {
   "cell_type": "code",
   "execution_count": 18,
   "metadata": {},
   "outputs": [
    {
     "data": {
      "text/plain": [
       "(0.9038461538461539, 0.49098712446351933)"
      ]
     },
     "execution_count": 18,
     "metadata": {},
     "output_type": "execute_result"
    }
   ],
   "source": [
    "get_acc(test_FXIT_Y, Y_FXIT_pred)"
   ]
  }
 ],
 "metadata": {
  "kernelspec": {
   "display_name": "Python 3",
   "language": "python",
   "name": "python3"
  },
  "language_info": {
   "codemirror_mode": {
    "name": "ipython",
    "version": 3
   },
   "file_extension": ".py",
   "mimetype": "text/x-python",
   "name": "python",
   "nbconvert_exporter": "python",
   "pygments_lexer": "ipython3",
   "version": "3.7.2"
  }
 },
 "nbformat": 4,
 "nbformat_minor": 2
}
