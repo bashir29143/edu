{
 "cells": [
  {
   "cell_type": "code",
   "execution_count": 43,
   "metadata": {},
   "outputs": [],
   "source": [
    "import pandas as pd\n",
    "import numpy as np\n",
    "import numpy.linalg as la\n",
    "from sklearn.linear_model import Lasso\n",
    "from scipy import integrate\n",
    "from scipy import interpolate"
   ]
  },
  {
   "cell_type": "markdown",
   "metadata": {},
   "source": [
    "## Напишем необходимые функции:"
   ]
  },
  {
   "cell_type": "code",
   "execution_count": 44,
   "metadata": {},
   "outputs": [],
   "source": [
    "def convert_to_np(stocks_csv):\n",
    "    stocks_pd = pd.read_csv(stocks_csv, sep = ',', header = 0)\n",
    "    rev_stocks = np.array(stocks_pd['Цена'])[::-1]\n",
    "    rev_stocks = [str(x).replace('.','') for x in rev_stocks]\n",
    "    dig_stocks = np.array([float(x.replace(',','.')) for x in rev_stocks])\n",
    "    return dig_stocks"
   ]
  },
  {
   "cell_type": "code",
   "execution_count": 45,
   "metadata": {},
   "outputs": [],
   "source": [
    "def convert_to_np_eng(stocks_csv):\n",
    "    stocks_pd = pd.read_csv(stocks_csv, sep = ',', header = 0)\n",
    "    rev_stocks = np.array(stocks_pd['Price'])[::-1]\n",
    "    dig_stocks = np.array([float(str(x).replace(',','')) for x in rev_stocks])\n",
    "    return dig_stocks"
   ]
  },
  {
   "cell_type": "code",
   "execution_count": 46,
   "metadata": {},
   "outputs": [],
   "source": [
    "def get_y(pred_window, relevant_cost, profit_level, loss_level):\n",
    "    for i in range(len(pred_window)):\n",
    "        if pred_window[i] > relevant_cost + profit_level/100:\n",
    "            return 1\n",
    "        elif pred_window[i] < relevant_cost - loss_level/100:\n",
    "            return -1\n",
    "    return 0"
   ]
  },
  {
   "cell_type": "markdown",
   "metadata": {},
   "source": [
    "profit_level > 0\n",
    "\n",
    "0 < loss_level < 100"
   ]
  },
  {
   "cell_type": "code",
   "execution_count": 47,
   "metadata": {},
   "outputs": [],
   "source": [
    "def get_x(data_window):\n",
    "    return data_window"
   ]
  },
  {
   "cell_type": "code",
   "execution_count": 48,
   "metadata": {},
   "outputs": [],
   "source": [
    "def get_dataset(stocks_array, data_len, pred_len, profit_level, loss_level):\n",
    "    x_array = []\n",
    "    y_array = []\n",
    "    \n",
    "    for i in range(len(stocks_array) - data_len - pred_len):\n",
    "        data_window = np.array(stocks_array[i : i + data_len])\n",
    "        pred_window = np.array(stocks_array[i + data_len : i + data_len + pred_len])\n",
    "\n",
    "        data_norm = data_window[0]\n",
    "\n",
    "        data_window = (data_window - data_norm)/data_norm\n",
    "        pred_window = (pred_window - data_norm)/data_norm\n",
    "        relevant_cost = data_window[-1]\n",
    "\n",
    "        x_array.append(get_x(data_window))\n",
    "\n",
    "        y_array.append(get_y(pred_window, relevant_cost, profit_level, loss_level))                   \n",
    "\n",
    "    return x_array, y_array\n",
    "        \n",
    "        "
   ]
  },
  {
   "cell_type": "code",
   "execution_count": 49,
   "metadata": {},
   "outputs": [],
   "source": [
    "def get_acc(Y_test, Y_pred):\n",
    "    s = 0\n",
    "    l = 0\n",
    "    \n",
    "    if len(Y_test) != len(Y_pred):\n",
    "        return 'Error: different lengthes'\n",
    "    \n",
    "    for i in range(len(Y_pred)):\n",
    "        if Y_pred[i] == 0:\n",
    "            continue\n",
    "        elif Y_pred[i] == Y_test[i]:\n",
    "            s += 1\n",
    "        l += 1\n",
    "    \n",
    "    if l == 0:\n",
    "        return 'no prediction'\n",
    "    \n",
    "    acc = s/l\n",
    "    \n",
    "    if l == 0:\n",
    "        return 'no prediction'\n",
    "    \n",
    "    return acc, l/len(Y_pred)\n",
    "    "
   ]
  },
  {
   "cell_type": "markdown",
   "metadata": {},
   "source": [
    "## Создадим модель и датасет"
   ]
  },
  {
   "cell_type": "code",
   "execution_count": 50,
   "metadata": {},
   "outputs": [],
   "source": [
    "stocks_VISA = convert_to_np('VISA.csv')\n",
    "stocks_FXIT = convert_to_np('FXIT.csv')"
   ]
  },
  {
   "cell_type": "code",
   "execution_count": 51,
   "metadata": {},
   "outputs": [
    {
     "data": {
      "text/plain": [
       "array([5380., 5339., 5366., 5378., 5412., 5417., 5360., 5348., 5436.,\n",
       "       5459.])"
      ]
     },
     "execution_count": 51,
     "metadata": {},
     "output_type": "execute_result"
    }
   ],
   "source": [
    "#stocks_VISA[-10:]\n",
    "stocks_FXIT[-10:]"
   ]
  },
  {
   "cell_type": "code",
   "execution_count": 229,
   "metadata": {},
   "outputs": [],
   "source": [
    "profit_level = 0.6\n",
    "loss_level = 0.6\n",
    "data_len = 20\n",
    "pred_len = 6\n",
    "step = 0.35"
   ]
  },
  {
   "cell_type": "code",
   "execution_count": 230,
   "metadata": {},
   "outputs": [],
   "source": [
    "prediction_model = Lasso(alpha = 0.001)\n",
    "\n",
    "prediction_model.fit(get_dataset(stocks_VISA[:-500], data_len, pred_len, profit_level, loss_level)[0], get_dataset(stocks_VISA[:-500], data_len, pred_len, profit_level, loss_level)[1])\n",
    "\n",
    "test_X = get_dataset(stocks_VISA[-500:], data_len, pred_len, profit_level, loss_level)[0]\n",
    "\n",
    "test_Y = get_dataset(stocks_VISA[-500:], data_len, pred_len, profit_level, loss_level)[1]"
   ]
  },
  {
   "cell_type": "code",
   "execution_count": 231,
   "metadata": {},
   "outputs": [],
   "source": [
    "#test_X"
   ]
  },
  {
   "cell_type": "code",
   "execution_count": 232,
   "metadata": {},
   "outputs": [],
   "source": [
    "#test_Y"
   ]
  },
  {
   "cell_type": "code",
   "execution_count": 233,
   "metadata": {},
   "outputs": [],
   "source": [
    "#prediction_model.predict(test_X)"
   ]
  },
  {
   "cell_type": "code",
   "execution_count": 234,
   "metadata": {},
   "outputs": [],
   "source": [
    "Y_pred = []\n",
    "\n",
    "for i in prediction_model.predict(test_X):\n",
    "    if i > step:\n",
    "        Y_pred.append(1)\n",
    "    elif i < -step:\n",
    "        Y_pred.append(-1)\n",
    "    else:\n",
    "        Y_pred.append(0)\n",
    "        "
   ]
  },
  {
   "cell_type": "code",
   "execution_count": 235,
   "metadata": {},
   "outputs": [],
   "source": [
    "#Y_pred"
   ]
  },
  {
   "cell_type": "code",
   "execution_count": 236,
   "metadata": {},
   "outputs": [
    {
     "data": {
      "text/plain": [
       "(0.6666666666666666, 0.006329113924050633)"
      ]
     },
     "execution_count": 236,
     "metadata": {},
     "output_type": "execute_result"
    }
   ],
   "source": [
    "get_acc(test_Y, Y_pred)"
   ]
  },
  {
   "cell_type": "markdown",
   "metadata": {},
   "source": [
    "### Проверим модель на FXIT"
   ]
  },
  {
   "cell_type": "code",
   "execution_count": 237,
   "metadata": {},
   "outputs": [],
   "source": [
    "test_FXIT_X = get_dataset(stocks_FXIT, data_len, pred_len, profit_level, loss_level)[0]\n",
    "\n",
    "test_FXIT_Y = get_dataset(stocks_FXIT, data_len, pred_len, profit_level, loss_level)[1]"
   ]
  },
  {
   "cell_type": "code",
   "execution_count": 238,
   "metadata": {},
   "outputs": [],
   "source": [
    "Y_FXIT_pred = []\n",
    "\n",
    "for i in prediction_model.predict(test_FXIT_X):\n",
    "    if i > step:\n",
    "        Y_FXIT_pred.append(1)\n",
    "    elif i < -step:\n",
    "        Y_FXIT_pred.append(-1)\n",
    "    else:\n",
    "        Y_FXIT_pred.append(0)"
   ]
  },
  {
   "cell_type": "code",
   "execution_count": 239,
   "metadata": {},
   "outputs": [
    {
     "data": {
      "text/plain": [
       "(0.5714285714285714, 0.005742411812961444)"
      ]
     },
     "execution_count": 239,
     "metadata": {},
     "output_type": "execute_result"
    }
   ],
   "source": [
    "get_acc(test_FXIT_Y, Y_FXIT_pred)"
   ]
  },
  {
   "cell_type": "markdown",
   "metadata": {},
   "source": [
    "### Проверим модель на других компаниях:"
   ]
  },
  {
   "cell_type": "code",
   "execution_count": 240,
   "metadata": {},
   "outputs": [
    {
     "data": {
      "text/plain": [
       "(0.6888888888888889, 0.017906884202148827)"
      ]
     },
     "execution_count": 240,
     "metadata": {},
     "output_type": "execute_result"
    }
   ],
   "source": [
    "test_AAPL_X = get_dataset(convert_to_np_eng('AAPL.csv'), data_len, pred_len, profit_level, loss_level)[0]\n",
    "\n",
    "test_AAPL_Y = get_dataset(convert_to_np_eng('AAPL.csv'), data_len, pred_len, profit_level, loss_level)[1]\n",
    "\n",
    "\n",
    "Y_AAPL_pred = []\n",
    "\n",
    "for i in prediction_model.predict(test_AAPL_X):\n",
    "    if i > step:\n",
    "        Y_AAPL_pred.append(1)\n",
    "    elif i < -step:\n",
    "        Y_AAPL_pred.append(-1)\n",
    "    else:\n",
    "        Y_AAPL_pred.append(0)\n",
    "        \n",
    "get_acc(test_AAPL_Y, Y_AAPL_pred)"
   ]
  },
  {
   "cell_type": "code",
   "execution_count": 241,
   "metadata": {},
   "outputs": [
    {
     "data": {
      "text/plain": [
       "(0.6486486486486487, 0.029446876243533624)"
      ]
     },
     "execution_count": 241,
     "metadata": {},
     "output_type": "execute_result"
    }
   ],
   "source": [
    "test_AMZN_X = get_dataset(convert_to_np_eng('AMZN.csv'), data_len, pred_len, profit_level, loss_level)[0]\n",
    "\n",
    "test_AMZN_Y = get_dataset(convert_to_np_eng('AMZN.csv'), data_len, pred_len, profit_level, loss_level)[1]\n",
    "\n",
    "\n",
    "Y_AMZN_pred = []\n",
    "\n",
    "for i in prediction_model.predict(test_AMZN_X):\n",
    "    if i > step:\n",
    "        Y_AMZN_pred.append(1)\n",
    "    elif i < -step:\n",
    "        Y_AMZN_pred.append(-1)\n",
    "    else:\n",
    "        Y_AMZN_pred.append(0)\n",
    "        \n",
    "get_acc(test_AMZN_Y, Y_AMZN_pred)"
   ]
  },
  {
   "cell_type": "code",
   "execution_count": 242,
   "metadata": {},
   "outputs": [
    {
     "data": {
      "text/plain": [
       "(0.7037037037037037, 0.010748407643312101)"
      ]
     },
     "execution_count": 242,
     "metadata": {},
     "output_type": "execute_result"
    }
   ],
   "source": [
    "test_IBM_X = get_dataset(convert_to_np_eng('IBM.csv'), data_len, pred_len, profit_level, loss_level)[0]\n",
    "\n",
    "test_IBM_Y = get_dataset(convert_to_np_eng('IBM.csv'), data_len, pred_len, profit_level, loss_level)[1]\n",
    "\n",
    "\n",
    "Y_IBM_pred = []\n",
    "\n",
    "for i in prediction_model.predict(test_IBM_X):\n",
    "    if i > step:\n",
    "        Y_IBM_pred.append(1)\n",
    "    elif i < -step:\n",
    "        Y_IBM_pred.append(-1)\n",
    "    else:\n",
    "        Y_IBM_pred.append(0)\n",
    "        \n",
    "get_acc(test_IBM_Y, Y_IBM_pred)"
   ]
  },
  {
   "cell_type": "code",
   "execution_count": 243,
   "metadata": {},
   "outputs": [
    {
     "data": {
      "text/plain": [
       "(0.5625, 0.012733784321528054)"
      ]
     },
     "execution_count": 243,
     "metadata": {},
     "output_type": "execute_result"
    }
   ],
   "source": [
    "test_MSFT_X = get_dataset(convert_to_np_eng('MSFT.csv'), data_len, pred_len, profit_level, loss_level)[0]\n",
    "\n",
    "test_MSFT_Y = get_dataset(convert_to_np_eng('MSFT.csv'), data_len, pred_len, profit_level, loss_level)[1]\n",
    "\n",
    "\n",
    "Y_MSFT_pred = []\n",
    "\n",
    "for i in prediction_model.predict(test_MSFT_X):\n",
    "    if i > step:\n",
    "        Y_MSFT_pred.append(1)\n",
    "    elif i < -step:\n",
    "        Y_MSFT_pred.append(-1)\n",
    "    else:\n",
    "        Y_MSFT_pred.append(0)\n",
    "        \n",
    "get_acc(test_MSFT_Y, Y_MSFT_pred)"
   ]
  },
  {
   "cell_type": "code",
   "execution_count": 244,
   "metadata": {},
   "outputs": [
    {
     "data": {
      "text/plain": [
       "(0.5577689243027888, 0.10480167014613778)"
      ]
     },
     "execution_count": 244,
     "metadata": {},
     "output_type": "execute_result"
    }
   ],
   "source": [
    "test_TSLA_X = get_dataset(convert_to_np_eng('TSLA.csv'), data_len, pred_len, profit_level, loss_level)[0]\n",
    "\n",
    "test_TSLA_Y = get_dataset(convert_to_np_eng('TSLA.csv'), data_len, pred_len, profit_level, loss_level)[1]\n",
    "\n",
    "\n",
    "Y_TSLA_pred = []\n",
    "\n",
    "for i in prediction_model.predict(test_TSLA_X):\n",
    "    if i > step:\n",
    "        Y_TSLA_pred.append(1)\n",
    "    elif i < -step:\n",
    "        Y_TSLA_pred.append(-1)\n",
    "    else:\n",
    "        Y_TSLA_pred.append(0)\n",
    "        \n",
    "get_acc(test_TSLA_Y, Y_TSLA_pred)"
   ]
  },
  {
   "cell_type": "code",
   "execution_count": null,
   "metadata": {},
   "outputs": [],
   "source": []
  }
 ],
 "metadata": {
  "kernelspec": {
   "display_name": "Python 3",
   "language": "python",
   "name": "python3"
  },
  "language_info": {
   "codemirror_mode": {
    "name": "ipython",
    "version": 3
   },
   "file_extension": ".py",
   "mimetype": "text/x-python",
   "name": "python",
   "nbconvert_exporter": "python",
   "pygments_lexer": "ipython3",
   "version": "3.7.2"
  }
 },
 "nbformat": 4,
 "nbformat_minor": 2
}
