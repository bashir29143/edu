{
 "cells": [
  {
   "cell_type": "code",
   "execution_count": 12,
   "metadata": {},
   "outputs": [],
   "source": [
    "import pandas as pd\n",
    "import numpy as np\n",
    "import numpy.linalg as la\n",
    "from sklearn.linear_model import Lasso\n",
    "from sklearn.linear_model import Ridge\n",
    "from scipy import integrate\n",
    "from scipy import interpolate"
   ]
  },
  {
   "cell_type": "markdown",
   "metadata": {},
   "source": [
    "## Напишем необходимые функции:"
   ]
  },
  {
   "cell_type": "code",
   "execution_count": 13,
   "metadata": {},
   "outputs": [],
   "source": [
    "def convert_to_np(stocks_csv):\n",
    "    stocks_pd = pd.read_csv(stocks_csv, sep = ',', header = 0)\n",
    "    rev_stocks = np.array(stocks_pd['Цена'])[::-1]\n",
    "    rev_stocks = [str(x).replace('.','') for x in rev_stocks]\n",
    "    dig_stocks = np.array([float(x.replace(',','.')) for x in rev_stocks])\n",
    "    return dig_stocks"
   ]
  },
  {
   "cell_type": "code",
   "execution_count": 14,
   "metadata": {},
   "outputs": [],
   "source": [
    "def convert_to_np_eng(stocks_csv):\n",
    "    stocks_pd = pd.read_csv(stocks_csv, sep = ',', header = 0)\n",
    "    rev_stocks = np.array(stocks_pd['Price'])[::-1]\n",
    "    dig_stocks = np.array([float(str(x).replace(',','')) for x in rev_stocks])\n",
    "    return dig_stocks"
   ]
  },
  {
   "cell_type": "code",
   "execution_count": 15,
   "metadata": {},
   "outputs": [],
   "source": [
    "def get_y(pred_window, relevant_cost, profit_level, loss_level):\n",
    "    for i in range(len(pred_window)):\n",
    "        if pred_window[i] > relevant_cost + profit_level/100:\n",
    "            return 1\n",
    "        elif pred_window[i] < relevant_cost - loss_level/100:\n",
    "            return -1\n",
    "    return 0"
   ]
  },
  {
   "cell_type": "markdown",
   "metadata": {},
   "source": [
    "profit_level > 0\n",
    "\n",
    "0 < loss_level < 100"
   ]
  },
  {
   "cell_type": "code",
   "execution_count": 16,
   "metadata": {},
   "outputs": [],
   "source": [
    "def get_x(data_window):\n",
    "    return data_window"
   ]
  },
  {
   "cell_type": "code",
   "execution_count": 17,
   "metadata": {},
   "outputs": [],
   "source": [
    "def get_dataset(stocks_array, data_len, pred_len, profit_level, loss_level):\n",
    "    x_array = []\n",
    "    y_array = []\n",
    "    \n",
    "    for i in range(len(stocks_array) - data_len - pred_len):\n",
    "        data_window = np.array(stocks_array[i : i + data_len])\n",
    "        pred_window = np.array(stocks_array[i + data_len : i + data_len + pred_len])\n",
    "\n",
    "        data_norm = data_window[0]\n",
    "\n",
    "        data_window = (data_window - data_norm)/data_norm\n",
    "        pred_window = (pred_window - data_norm)/data_norm\n",
    "        relevant_cost = data_window[-1]\n",
    "\n",
    "        x_array.append(get_x(data_window))\n",
    "\n",
    "        y_array.append(get_y(pred_window, relevant_cost, profit_level, loss_level))                   \n",
    "\n",
    "    return x_array, y_array\n",
    "        \n",
    "        "
   ]
  },
  {
   "cell_type": "code",
   "execution_count": 18,
   "metadata": {},
   "outputs": [],
   "source": [
    "def get_acc(Y_test, Y_pred):\n",
    "    s = 0\n",
    "    l = 0\n",
    "    \n",
    "    if len(Y_test) != len(Y_pred):\n",
    "        return 'Error: different lengthes'\n",
    "    \n",
    "    for i in range(len(Y_pred)):\n",
    "        if Y_pred[i] == 0:\n",
    "            continue\n",
    "        elif Y_pred[i] == Y_test[i]:\n",
    "            s += 1\n",
    "        l += 1\n",
    "    \n",
    "    if l == 0:\n",
    "        return 'no prediction'\n",
    "    \n",
    "    acc = s/l\n",
    "    \n",
    "    if l == 0:\n",
    "        return 'no prediction'\n",
    "    \n",
    "    return acc, l/len(Y_pred)\n",
    "    "
   ]
  },
  {
   "cell_type": "markdown",
   "metadata": {},
   "source": [
    "## Создадим модель и датасет"
   ]
  },
  {
   "cell_type": "code",
   "execution_count": 19,
   "metadata": {},
   "outputs": [],
   "source": [
    "stocks_VISA = convert_to_np('VISA.csv')\n",
    "stocks_FXIT = convert_to_np('FXIT.csv')"
   ]
  },
  {
   "cell_type": "code",
   "execution_count": 20,
   "metadata": {},
   "outputs": [
    {
     "data": {
      "text/plain": [
       "array([5380., 5339., 5366., 5378., 5412., 5417., 5360., 5348., 5436.,\n",
       "       5459.])"
      ]
     },
     "execution_count": 20,
     "metadata": {},
     "output_type": "execute_result"
    }
   ],
   "source": [
    "#stocks_VISA[-10:]\n",
    "stocks_FXIT[-10:]"
   ]
  },
  {
   "cell_type": "code",
   "execution_count": 163,
   "metadata": {},
   "outputs": [],
   "source": [
    "profit_level = 0.5\n",
    "loss_level = 0.5\n",
    "data_len = 10\n",
    "pred_len = 5\n",
    "step = 0.4"
   ]
  },
  {
   "cell_type": "code",
   "execution_count": 164,
   "metadata": {},
   "outputs": [],
   "source": [
    "prediction_model = Ridge(alpha = 0.1)\n",
    "\n",
    "prediction_model.fit(get_dataset(stocks_VISA[:-500], data_len, pred_len, profit_level, loss_level)[0], get_dataset(stocks_VISA[:-500], data_len, pred_len, profit_level, loss_level)[1])\n",
    "\n",
    "test_X = get_dataset(stocks_VISA[-500:], data_len, pred_len, profit_level, loss_level)[0]\n",
    "\n",
    "test_Y = get_dataset(stocks_VISA[-500:], data_len, pred_len, profit_level, loss_level)[1]"
   ]
  },
  {
   "cell_type": "code",
   "execution_count": 165,
   "metadata": {},
   "outputs": [],
   "source": [
    "#test_X"
   ]
  },
  {
   "cell_type": "code",
   "execution_count": 166,
   "metadata": {},
   "outputs": [],
   "source": [
    "#test_Y"
   ]
  },
  {
   "cell_type": "code",
   "execution_count": 167,
   "metadata": {},
   "outputs": [],
   "source": [
    "#prediction_model.predict(test_X)"
   ]
  },
  {
   "cell_type": "code",
   "execution_count": 168,
   "metadata": {},
   "outputs": [],
   "source": [
    "Y_pred = []\n",
    "\n",
    "for i in prediction_model.predict(test_X):\n",
    "    if i > step:\n",
    "        Y_pred.append(1)\n",
    "    elif i < -step:\n",
    "        Y_pred.append(-1)\n",
    "    else:\n",
    "        Y_pred.append(0)\n",
    "        "
   ]
  },
  {
   "cell_type": "code",
   "execution_count": 169,
   "metadata": {},
   "outputs": [],
   "source": [
    "#Y_pred"
   ]
  },
  {
   "cell_type": "code",
   "execution_count": 170,
   "metadata": {},
   "outputs": [
    {
     "data": {
      "text/plain": [
       "(0.7142857142857143, 0.01443298969072165)"
      ]
     },
     "execution_count": 170,
     "metadata": {},
     "output_type": "execute_result"
    }
   ],
   "source": [
    "get_acc(test_Y, Y_pred)"
   ]
  },
  {
   "cell_type": "markdown",
   "metadata": {},
   "source": [
    "### Проверим модель на FXIT"
   ]
  },
  {
   "cell_type": "code",
   "execution_count": 171,
   "metadata": {},
   "outputs": [],
   "source": [
    "test_FXIT_X = get_dataset(stocks_FXIT, data_len, pred_len, profit_level, loss_level)[0]\n",
    "\n",
    "test_FXIT_Y = get_dataset(stocks_FXIT, data_len, pred_len, profit_level, loss_level)[1]"
   ]
  },
  {
   "cell_type": "code",
   "execution_count": 172,
   "metadata": {},
   "outputs": [],
   "source": [
    "Y_FXIT_pred = []\n",
    "\n",
    "for i in prediction_model.predict(test_FXIT_X):\n",
    "    if i > step:\n",
    "        Y_FXIT_pred.append(1)\n",
    "    elif i < -step:\n",
    "        Y_FXIT_pred.append(-1)\n",
    "    else:\n",
    "        Y_FXIT_pred.append(0)"
   ]
  },
  {
   "cell_type": "code",
   "execution_count": 173,
   "metadata": {},
   "outputs": [
    {
     "data": {
      "text/plain": [
       "(0.7, 0.008130081300813009)"
      ]
     },
     "execution_count": 173,
     "metadata": {},
     "output_type": "execute_result"
    }
   ],
   "source": [
    "get_acc(test_FXIT_Y, Y_FXIT_pred)"
   ]
  },
  {
   "cell_type": "markdown",
   "metadata": {},
   "source": [
    "### Проверим модель на других компаниях:"
   ]
  },
  {
   "cell_type": "code",
   "execution_count": 174,
   "metadata": {},
   "outputs": [
    {
     "data": {
      "text/plain": [
       "(0.7169811320754716, 0.020998415213946117)"
      ]
     },
     "execution_count": 174,
     "metadata": {},
     "output_type": "execute_result"
    }
   ],
   "source": [
    "test_AAPL_X = get_dataset(convert_to_np_eng('AAPL.csv'), data_len, pred_len, profit_level, loss_level)[0]\n",
    "\n",
    "test_AAPL_Y = get_dataset(convert_to_np_eng('AAPL.csv'), data_len, pred_len, profit_level, loss_level)[1]\n",
    "\n",
    "\n",
    "Y_AAPL_pred = []\n",
    "\n",
    "for i in prediction_model.predict(test_AAPL_X):\n",
    "    if i > step:\n",
    "        Y_AAPL_pred.append(1)\n",
    "    elif i < -step:\n",
    "        Y_AAPL_pred.append(-1)\n",
    "    else:\n",
    "        Y_AAPL_pred.append(0)\n",
    "        \n",
    "get_acc(test_AAPL_Y, Y_AAPL_pred)"
   ]
  },
  {
   "cell_type": "code",
   "execution_count": 175,
   "metadata": {},
   "outputs": [
    {
     "data": {
      "text/plain": [
       "(0.5952380952380952, 0.03328050713153724)"
      ]
     },
     "execution_count": 175,
     "metadata": {},
     "output_type": "execute_result"
    }
   ],
   "source": [
    "test_AMZN_X = get_dataset(convert_to_np_eng('AMZN.csv'), data_len, pred_len, profit_level, loss_level)[0]\n",
    "\n",
    "test_AMZN_Y = get_dataset(convert_to_np_eng('AMZN.csv'), data_len, pred_len, profit_level, loss_level)[1]\n",
    "\n",
    "\n",
    "Y_AMZN_pred = []\n",
    "\n",
    "for i in prediction_model.predict(test_AMZN_X):\n",
    "    if i > step:\n",
    "        Y_AMZN_pred.append(1)\n",
    "    elif i < -step:\n",
    "        Y_AMZN_pred.append(-1)\n",
    "    else:\n",
    "        Y_AMZN_pred.append(0)\n",
    "        \n",
    "get_acc(test_AMZN_Y, Y_AMZN_pred)"
   ]
  },
  {
   "cell_type": "code",
   "execution_count": 176,
   "metadata": {},
   "outputs": [
    {
     "data": {
      "text/plain": [
       "(0.631578947368421, 0.015061434799841459)"
      ]
     },
     "execution_count": 176,
     "metadata": {},
     "output_type": "execute_result"
    }
   ],
   "source": [
    "test_IBM_X = get_dataset(convert_to_np_eng('IBM.csv'), data_len, pred_len, profit_level, loss_level)[0]\n",
    "\n",
    "test_IBM_Y = get_dataset(convert_to_np_eng('IBM.csv'), data_len, pred_len, profit_level, loss_level)[1]\n",
    "\n",
    "\n",
    "Y_IBM_pred = []\n",
    "\n",
    "for i in prediction_model.predict(test_IBM_X):\n",
    "    if i > step:\n",
    "        Y_IBM_pred.append(1)\n",
    "    elif i < -step:\n",
    "        Y_IBM_pred.append(-1)\n",
    "    else:\n",
    "        Y_IBM_pred.append(0)\n",
    "        \n",
    "get_acc(test_IBM_Y, Y_IBM_pred)"
   ]
  },
  {
   "cell_type": "code",
   "execution_count": 177,
   "metadata": {},
   "outputs": [
    {
     "data": {
      "text/plain": [
       "(0.5853658536585366, 0.01624405705229794)"
      ]
     },
     "execution_count": 177,
     "metadata": {},
     "output_type": "execute_result"
    }
   ],
   "source": [
    "test_MSFT_X = get_dataset(convert_to_np_eng('MSFT.csv'), data_len, pred_len, profit_level, loss_level)[0]\n",
    "\n",
    "test_MSFT_Y = get_dataset(convert_to_np_eng('MSFT.csv'), data_len, pred_len, profit_level, loss_level)[1]\n",
    "\n",
    "\n",
    "Y_MSFT_pred = []\n",
    "\n",
    "for i in prediction_model.predict(test_MSFT_X):\n",
    "    if i > step:\n",
    "        Y_MSFT_pred.append(1)\n",
    "    elif i < -step:\n",
    "        Y_MSFT_pred.append(-1)\n",
    "    else:\n",
    "        Y_MSFT_pred.append(0)\n",
    "        \n",
    "get_acc(test_MSFT_Y, Y_MSFT_pred)"
   ]
  },
  {
   "cell_type": "code",
   "execution_count": 178,
   "metadata": {},
   "outputs": [
    {
     "data": {
      "text/plain": [
       "(0.5594405594405595, 0.11886949293433084)"
      ]
     },
     "execution_count": 178,
     "metadata": {},
     "output_type": "execute_result"
    }
   ],
   "source": [
    "test_TSLA_X = get_dataset(convert_to_np_eng('TSLA.csv'), data_len, pred_len, profit_level, loss_level)[0]\n",
    "\n",
    "test_TSLA_Y = get_dataset(convert_to_np_eng('TSLA.csv'), data_len, pred_len, profit_level, loss_level)[1]\n",
    "\n",
    "\n",
    "Y_TSLA_pred = []\n",
    "\n",
    "for i in prediction_model.predict(test_TSLA_X):\n",
    "    if i > step:\n",
    "        Y_TSLA_pred.append(1)\n",
    "    elif i < -step:\n",
    "        Y_TSLA_pred.append(-1)\n",
    "    else:\n",
    "        Y_TSLA_pred.append(0)\n",
    "        \n",
    "get_acc(test_TSLA_Y, Y_TSLA_pred)"
   ]
  },
  {
   "cell_type": "code",
   "execution_count": null,
   "metadata": {},
   "outputs": [],
   "source": []
  }
 ],
 "metadata": {
  "kernelspec": {
   "display_name": "Python 3",
   "language": "python",
   "name": "python3"
  },
  "language_info": {
   "codemirror_mode": {
    "name": "ipython",
    "version": 3
   },
   "file_extension": ".py",
   "mimetype": "text/x-python",
   "name": "python",
   "nbconvert_exporter": "python",
   "pygments_lexer": "ipython3",
   "version": "3.7.2"
  }
 },
 "nbformat": 4,
 "nbformat_minor": 2
}
