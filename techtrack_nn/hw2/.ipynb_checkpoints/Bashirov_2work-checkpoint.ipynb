{
 "cells": [
  {
   "cell_type": "code",
   "execution_count": 1,
   "metadata": {},
   "outputs": [],
   "source": [
    "import numpy as np\n",
    "import matplotlib.pyplot as plt\n",
    "import pickle\n",
    "%matplotlib inline\n",
    "from sklearn.model_selection import train_test_split\n",
    "import tqdm"
   ]
  },
  {
   "cell_type": "code",
   "execution_count": 2,
   "metadata": {},
   "outputs": [],
   "source": [
    "# класс one-hot encoder'а для MNIST\n",
    "class OneHotEncoder:\n",
    "    def __init__(self):\n",
    "        self.transform_mapping = np.zeros((10,10))\n",
    "        for i in range(self.transform_mapping.shape[0]):\n",
    "            self.transform_mapping[i][i] = 1.0\n",
    "    def transform(self, y):\n",
    "        return self.transform_mapping[int(y)]"
   ]
  },
  {
   "cell_type": "code",
   "execution_count": 3,
   "metadata": {},
   "outputs": [],
   "source": [
    "def make_submission(X_test, net, fname=\"my_submission.csv\"):\n",
    "    with open(fname,'w') as fout:\n",
    "        fout.write('Id,Category')\n",
    "        for i in range(X_test.shape[0]):\n",
    "            y_h = net.forward(X_test[i])\n",
    "            y = np.argmax(y_h)\n",
    "            fout.write(\"\\n{},{}\".format(i, int(y)))"
   ]
  },
  {
   "cell_type": "code",
   "execution_count": 4,
   "metadata": {},
   "outputs": [],
   "source": [
    "# внимание, тут Y_test в обычном формате(не onehot)\n",
    "def compute_acc(X_test, Y_test, net):\n",
    "    acc = 0.0\n",
    "    for i in range(X_test.shape[0]):\n",
    "        y_h = net.forward(X_test[i])\n",
    "        y = np.argmax(y_h)\n",
    "        if(y == Y_test[i]):\n",
    "            acc += 1.0\n",
    "    return acc / Y_test.shape[0]"
   ]
  },
  {
   "cell_type": "code",
   "execution_count": 5,
   "metadata": {},
   "outputs": [],
   "source": [
    "train_data = None\n",
    "test_data = None\n",
    "encoder = OneHotEncoder()\n",
    "with open('data_train.pickle','rb') as fin:\n",
    "    train_data = pickle.load(fin)\n",
    "with open('data_test_no_labels.pickle','rb') as fin:\n",
    "    test_data = pickle.load(fin)\n",
    "    \n",
    "X_train = train_data['data']\n",
    "Y_train = train_data['target']\n",
    "Y_train_oh = np.array(list(map(lambda x : encoder.transform(x), Y_train)))\n",
    "\n",
    "\n",
    "X_test = test_data['data']"
   ]
  },
  {
   "cell_type": "code",
   "execution_count": 6,
   "metadata": {},
   "outputs": [
    {
     "data": {
      "image/png": "[encoded data removed]",
      "text/plain": [
       "<Figure size 432x288 with 16 Axes>"
      ]
     },
     "metadata": {
      "needs_background": "light"
     },
     "output_type": "display_data"
    }
   ],
   "source": [
    "n=4\n",
    "for i in range(n*n):\n",
    "    plt.subplot(n,n,i+1)\n",
    "    I = train_data['data'][np.random.randint(0, X_train.shape[0]),:]\n",
    "    I = I.reshape((28, 28))\n",
    "    plt.imshow(I, cmap='gray')"
   ]
  },
  {
   "cell_type": "code",
   "execution_count": 7,
   "metadata": {},
   "outputs": [],
   "source": [
    "# Подготовка датасета\n",
    "x = train_data['data']\n",
    "y = train_data['target']\n",
    "x = x.astype('float')\n",
    "\n",
    "xmean = np.mean(x, axis = 0)\n",
    "xstd = np.std(x, axis = 0)\n",
    "x = (x - xmean)/(xstd + 0.00001)\n",
    "\n",
    "x_train, x_val, y_train, y_val = train_test_split(x, y, test_size  = 0.1, stratify = y)"
   ]
  },
  {
   "cell_type": "code",
   "execution_count": 8,
   "metadata": {},
   "outputs": [],
   "source": [
    "# Определение слоев сети\n",
    "\n",
    "\n",
    "class Dense:\n",
    "    \n",
    "    def __init__(self, in_size, out_size, rlambda = 0.0):\n",
    "        self.W = np.random.normal(scale=1, size=(out_size, in_size)) * np.sqrt(2 / in_size)\n",
    "        self.b = np.zeros(out_size)\n",
    "        self.rlambda = rlambda\n",
    "        \n",
    "    def forward(self, x):\n",
    "        self.x = x # запоминаем для обратного прохода\n",
    "        return np.dot(self.W, x) + self.b\n",
    "    \n",
    "    def get_reg_loss(self):\n",
    "        return 0.5 * self.rlambda * (np.linalg.norm(self.W, ord='fro') ** 2)\n",
    "    \n",
    "    def backward(self, dz, lr=0.001):\n",
    "        # вычисляем градиенты по параметрам (запоминаем их для отладки)\n",
    "        self.dW = np.outer(dz, self.x)\n",
    "        self.db = dz\n",
    "        # вычисляем производную по входу\n",
    "        self.dx = np.matmul(dz, self.W) \n",
    "        # рассчитываем градиенты от регуляризатора\n",
    "        if(self.rlambda != 0):\n",
    "            self.dW += self.rlambda * self.W\n",
    "        # обновляем веса\n",
    "        self.W = self.W - lr * self.dW\n",
    "        self.b = self.b - lr * self.db\n",
    "        # возвращаем dx для продолжения алгоритма\n",
    "        return self.dx\n",
    "\n",
    "class ReLU:\n",
    "    \n",
    "    def forward(self, x):\n",
    "        self.x = x\n",
    "        return np.maximum(0, x)\n",
    "    \n",
    "    def backward(self, dz):\n",
    "        dz[self.x < 0] = 0\n",
    "        return dz\n",
    "    \n",
    "class Softmax:\n",
    "    \n",
    "    def forward(self, x):\n",
    "        self.x = x\n",
    "        exp = np.exp(x-max(x))\n",
    "        self.sm = exp/np.sum(exp)\n",
    "        return self.sm\n",
    "    \n",
    "    def backward(self, dz,):\n",
    "        A = self.sm*(np.eye(self.sm.shape[0], self.sm.shape[0]) - self.sm).T\n",
    "        return np.dot(dz, A)\n",
    "        \n",
    "        \n",
    "class CrossEntropy:\n",
    "    \n",
    "    def forward(self, y_true, y_hat):\n",
    "        self.y_true = y_true\n",
    "        self.y_hat = y_hat \n",
    "        return -np.sum(y_true * np.log(y_hat))\n",
    "    \n",
    "    def backward(self, dz):\n",
    "        return -dz * self.y_true / self.y_hat\n",
    "        \n",
    "       \n"
   ]
  },
  {
   "cell_type": "code",
   "execution_count": 9,
   "metadata": {},
   "outputs": [],
   "source": [
    "# Опеределение самой сети\n",
    "class MnistNet:\n",
    "    def __init__(self, rlambda=0.0):\n",
    "        self.dense1 = Dense(x_train.shape[1], 150, rlambda)\n",
    "        self.relu = ReLU()\n",
    "        self.dense2 = Dense(150, 10, rlambda)\n",
    "        self.softmax = Softmax()\n",
    "    \n",
    "    def forward(self, x):\n",
    "        net = self.dense1.forward(x)\n",
    "        net = self.relu.forward(net)\n",
    "        net = self.dense2.forward(net)\n",
    "        net = self.softmax.forward(net)\n",
    "        return net\n",
    "    \n",
    "    def backward(self, dz, lr):\n",
    "        dz = self.softmax.backward(dz)\n",
    "        dz = self.dense2.backward(dz, lr)\n",
    "        dz = self.relu.backward(dz)\n",
    "        dz = self.dense1.backward(dz, lr)\n",
    "        return dz"
   ]
  },
  {
   "cell_type": "code",
   "execution_count": 10,
   "metadata": {},
   "outputs": [
    {
     "data": {
      "application/vnd.jupyter.widget-view+json": {
       "model_id": "813447fe840f40e5af29abd246c0f1ce",
       "version_major": 2,
       "version_minor": 0
      },
      "text/plain": [
       "HBox(children=(IntProgress(value=0, max=40), HTML(value='')))"
      ]
     },
     "metadata": {},
     "output_type": "display_data"
    },
    {
     "name": "stdout",
     "output_type": "stream",
     "text": [
      "0 0.32778680748404804 0.22349534644576444\n",
      "1 0.1571674295515781 0.1832301186352268\n",
      "2 0.12059181452733139 0.16404422972135757\n",
      "3 0.09535044503941835 0.14953169709391478\n",
      "4 0.07815123099114239 0.1416538078084099\n",
      "5 0.0684347381099235 0.13429779781727813\n",
      "6 0.06035360460947711 0.12564562170402907\n",
      "7 0.05263620748705388 0.12626708788414578\n",
      "8 0.0475691728335006 0.12174364681088562\n",
      "9 0.04475204896792137 0.11754199643817674\n",
      "10 0.04100087912858852 0.11569075504280825\n",
      "11 0.03878904393424073 0.11342513883466444\n",
      "12 0.0362526831020021 0.107203093035871\n",
      "13 0.03356514569186214 0.10672661136200376\n",
      "14 0.03260932545159318 0.10292013798548398\n",
      "15 0.031441295219691336 0.10029689422448895\n",
      "16 0.030793233523568206 0.10092315876251766\n",
      "17 0.029566707250680897 0.09573582457781933\n",
      "18 0.02837708110325465 0.09507523907351638\n",
      "19 0.028362805763687705 0.09577055524247835\n",
      "20 0.026979444503805333 0.0929064915837569\n",
      "21 0.027617963612690137 0.08966398887042806\n",
      "22 0.026770323232147522 0.09042227117183002\n",
      "23 0.026663187933910742 0.09005588044964222\n",
      "24 0.026197578620084122 0.08900950056870287\n",
      "25 0.025756281209681733 0.08849833306451985\n",
      "26 0.02511826360613512 0.08710200058989191\n",
      "27 0.024778346049556924 0.08582063023539249\n",
      "28 0.02530290545905424 0.08618935287025026\n",
      "29 0.024647769443787774 0.0839286110428795\n",
      "30 0.024487030306338933 0.0826591791777478\n",
      "31 0.024654939154682354 0.08391602163913087\n",
      "32 0.02405933748190182 0.08285714383272781\n",
      "33 0.024658332886450442 0.08275659030421073\n",
      "34 0.02382579317691319 0.08165982002121296\n",
      "35 0.02392279338849362 0.08143033274358535\n",
      "36 0.02398894828206987 0.08150087926454082\n",
      "37 0.023836854504763718 0.07923407246078151\n",
      "38 0.023231258032066035 0.0803472127018096\n",
      "39 0.02422191867564233 0.07925709505456366\n",
      "\n"
     ]
    }
   ],
   "source": [
    "# Здесь процедура обучения\n",
    "net = MnistNet(0.001)\n",
    "loss = CrossEntropy()\n",
    "lr = 0.001\n",
    "L_train = []\n",
    "L_test = []\n",
    "acc_train = []\n",
    "acc_test = []\n",
    "\n",
    "for iter in tqdm.tqdm_notebook(range(40)):\n",
    "    L_acc = 0.\n",
    "    sh = list(range(x_train.shape[0]))\n",
    "    np.random.shuffle(sh)\n",
    "    for i in range(x_train.shape[0]):\n",
    "        x = x_train[sh[i]]\n",
    "        y = encoder.transform(y_train[sh[i]])\n",
    "        y_h = net.forward(x)\n",
    "        L = loss.forward(y, y_h)\n",
    "        L_acc += L \n",
    "        dz = loss.backward(1)\n",
    "        dz = net.backward(dz, lr)\n",
    "    L_acc /= y_train.shape[0]\n",
    "    L_train.append(L_acc)\n",
    "    L_e_acc = 0.\n",
    "    for i in range(x_val.shape[0]):\n",
    "        x = x_val[i]\n",
    "        y = encoder.transform(y_val[i])\n",
    "        y_h = net.forward(x)\n",
    "        L = loss.forward(y, y_h)\n",
    "        L_e_acc += L\n",
    "    L_e_acc /= y_val.shape[0]\n",
    "    L_test.append(L_e_acc)\n",
    "    print(iter, L_acc, L_e_acc)\n",
    "    acc_train.append(compute_acc(x_train, y_train, net))\n",
    "    acc_test.append(compute_acc(x_val, y_val, net))\n"
   ]
  },
  {
   "cell_type": "code",
   "execution_count": 11,
   "metadata": {},
   "outputs": [
    {
     "data": {
      "image/png": "[encoded data removed]",
      "text/plain": [
       "<Figure size 432x288 with 1 Axes>"
      ]
     },
     "metadata": {
      "needs_background": "light"
     },
     "output_type": "display_data"
    }
   ],
   "source": [
    "# Здесь необходимо отрисовать графики CrossEntropyLoss для обучающей и валидационной выборок\n",
    "# plot(L_train, label=\"train\")\n",
    "\n",
    "plt.title('Loss')\n",
    "plt.plot(L_train, label = 'Train')\n",
    "plt.plot(L_test, label = 'Validation')\n",
    "plt.legend();\n",
    "\n",
    "plt.title('Acc')\n",
    "plt.plot(acc_train, label='Train')\n",
    "plt.plot(acc_test, label='Validation')\n",
    "plt.legend();"
   ]
  },
  {
   "cell_type": "code",
   "execution_count": 12,
   "metadata": {},
   "outputs": [],
   "source": [
    "# формируем сабмишшен и заливаем его на kaggle\n",
    "\n",
    "X_test = test_data['data']\n",
    "\n",
    "X_test = X_test.astype('float')\n",
    "\n",
    "\n",
    "X_test_norm = (X_test - xmean )/ (xstd + 0.00001)\n",
    "\n",
    "make_submission(X_test_norm, net)"
   ]
  },
  {
   "cell_type": "code",
   "execution_count": 14,
   "metadata": {},
   "outputs": [
    {
     "data": {
      "text/plain": [
       "0.9763809523809523"
      ]
     },
     "execution_count": 14,
     "metadata": {},
     "output_type": "execute_result"
    }
   ],
   "source": [
    "acc_test[39]"
   ]
  },
  {
   "cell_type": "code",
   "execution_count": null,
   "metadata": {},
   "outputs": [],
   "source": []
  }
 ],
 "metadata": {
  "kernelspec": {
   "display_name": "Python 3",
   "language": "python",
   "name": "python3"
  },
  "language_info": {
   "codemirror_mode": {
    "name": "ipython",
    "version": 3
   },
   "file_extension": ".py",
   "mimetype": "text/x-python",
   "name": "python",
   "nbconvert_exporter": "python",
   "pygments_lexer": "ipython3",
   "version": "3.7.0"
  }
 },
 "nbformat": 4,
 "nbformat_minor": 2
}
