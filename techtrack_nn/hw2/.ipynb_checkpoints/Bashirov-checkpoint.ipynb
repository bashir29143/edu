{
 "cells": [
  {
   "cell_type": "code",
   "execution_count": 1,
   "metadata": {},
   "outputs": [],
   "source": [
    "import numpy as np\n",
    "import matplotlib.pyplot as plt\n",
    "import pickle\n",
    "%matplotlib inline\n",
    "from sklearn.model_selection import train_test_split\n",
    "import tqdm"
   ]
  },
  {
   "cell_type": "code",
   "execution_count": 2,
   "metadata": {},
   "outputs": [],
   "source": [
    "# класс one-hot encoder'а для MNIST\n",
    "class OneHotEncoder:\n",
    "    def __init__(self):\n",
    "        self.transform_mapping = np.zeros((10,10))\n",
    "        for i in range(self.transform_mapping.shape[0]):\n",
    "            self.transform_mapping[i][i] = 1.0\n",
    "    def transform(self, y):\n",
    "        return self.transform_mapping[int(y)]"
   ]
  },
  {
   "cell_type": "code",
   "execution_count": 3,
   "metadata": {},
   "outputs": [],
   "source": [
    "def make_submission(X_test, net, fname=\"my_submission.csv\"):\n",
    "    with open(fname,'w') as fout:\n",
    "        fout.write('Id,Category')\n",
    "        for i in range(X_test.shape[0]):\n",
    "            y_h = net.forward(X_test[i])\n",
    "            y = np.argmax(y_h)\n",
    "            fout.write(\"\\n{},{}\".format(i, int(y)))"
   ]
  },
  {
   "cell_type": "code",
   "execution_count": 4,
   "metadata": {},
   "outputs": [],
   "source": [
    "# внимание, тут Y_test в обычном формате(не onehot)\n",
    "def compute_acc(X_test, Y_test, net):\n",
    "    acc = 0.0\n",
    "    for i in range(X_test.shape[0]):\n",
    "        y_h = net.forward(X_test[i])\n",
    "        y = np.argmax(y_h)\n",
    "        if(y == Y_test[i]):\n",
    "            acc += 1.0\n",
    "    return acc / Y_test.shape[0]"
   ]
  },
  {
   "cell_type": "code",
   "execution_count": 5,
   "metadata": {},
   "outputs": [],
   "source": [
    "train_data = None\n",
    "test_data = None\n",
    "encoder = OneHotEncoder()\n",
    "with open('data_train.pickle','rb') as fin:\n",
    "    train_data = pickle.load(fin)\n",
    "with open('data_test_no_labels.pickle','rb') as fin:\n",
    "    test_data = pickle.load(fin)\n",
    "    \n",
    "X_train = train_data['data']\n",
    "Y_train = train_data['target']\n",
    "Y_train_oh = np.array(list(map(lambda x : encoder.transform(x), Y_train)))\n",
    "\n",
    "\n",
    "X_test = test_data['data']"
   ]
  },
  {
   "cell_type": "code",
   "execution_count": 6,
   "metadata": {},
   "outputs": [
    {
     "data": {
      "image/png": "[encoded data removed]",
      "text/plain": [
       "<Figure size 432x288 with 16 Axes>"
      ]
     },
     "metadata": {
      "needs_background": "light"
     },
     "output_type": "display_data"
    }
   ],
   "source": [
    "n=4\n",
    "for i in range(n*n):\n",
    "    plt.subplot(n,n,i+1)\n",
    "    I = train_data['data'][np.random.randint(0, X_train.shape[0]),:]\n",
    "    I = I.reshape((28, 28))\n",
    "    plt.imshow(I, cmap='gray')"
   ]
  },
  {
   "cell_type": "code",
   "execution_count": 7,
   "metadata": {},
   "outputs": [],
   "source": [
    "# Подготовка датасета\n",
    "x = train_data['data']\n",
    "y = train_data['target']\n",
    "x = x.astype('float')\n",
    "\n",
    "xmean = np.mean(x, axis = 0)\n",
    "xstd = np.std(x, axis = 0)\n",
    "x = (x - xmean)/(xstd + 0.00001)\n",
    "\n",
    "x_train, x_val, y_train, y_val = train_test_split(x, y, test_size  = 0.25)"
   ]
  },
  {
   "cell_type": "code",
   "execution_count": 16,
   "metadata": {},
   "outputs": [],
   "source": [
    "# Определение слоев сети\n",
    "\n",
    "\n",
    "class Dense:\n",
    "    \n",
    "    def __init__(self, in_size, out_size, rlambda = 0.0):\n",
    "        self.W = np.random.normal(scale=1, size=(out_size, in_size)) * np.sqrt(2 / in_size)\n",
    "        self.b = np.zeros(out_size)\n",
    "        self.rlambda = rlambda\n",
    "        \n",
    "    def forward(self, x):\n",
    "        self.x = x # запоминаем для обратного прохода\n",
    "        return np.dot(self.W, x) + self.b\n",
    "    \n",
    "    def get_reg_loss(self):\n",
    "        return 0.5 * self.rlambda * (np.linalg.norm(self.W, ord='fro') ** 2)\n",
    "    \n",
    "    def backward(self, dz, lr=0.001):\n",
    "        # вычисляем градиенты по параметрам (запоминаем их для отладки)\n",
    "        self.dW = np.outer(dz, self.x)\n",
    "        self.db = dz\n",
    "        # вычисляем производную по входу\n",
    "        self.dx = np.matmul(dz, self.W) \n",
    "        # рассчитываем градиенты от регуляризатора\n",
    "        if(self.rlambda != 0):\n",
    "            self.dW += self.rlambda * self.W\n",
    "        # обновляем веса\n",
    "        self.W = self.W - lr * self.dW\n",
    "        self.b = self.b - lr * self.db\n",
    "        # возвращаем dx для продолжения алгоритма\n",
    "        return self.dx\n",
    "\n",
    "class ReLU:\n",
    "    \n",
    "    def forward(self, x):\n",
    "        self.x = x\n",
    "        return np.maximum(0, x)\n",
    "    \n",
    "    def backward(self, dz):\n",
    "        dz[self.x < 0] = 0\n",
    "        return dz\n",
    "    \n",
    "class Softmax:\n",
    "    \n",
    "    def forward(self, x):\n",
    "        self.x = x\n",
    "        exp = np.exp(x)\n",
    "        self.sm = exp/np.sum(exp)\n",
    "        return self.sm\n",
    "    \n",
    "    def backward(self, dz,):\n",
    "        A = self.sm*(np.eye(self.sm.shape[0], self.sm.shape[0]) - self.sm).T\n",
    "        return np.dot(dz, A)\n",
    "        \n",
    "        \n",
    "class CrossEntropy:\n",
    "    \n",
    "    def forward(self, y_true, y_hat):\n",
    "        self.y_true = y_true\n",
    "        self.y_hat = y_hat \n",
    "        return -np.sum(y_true * np.log(y_hat))\n",
    "    \n",
    "    def backward(self, dz):\n",
    "        return -dz * self.y_true / self.y_hat\n",
    "        \n",
    "       \n"
   ]
  },
  {
   "cell_type": "code",
   "execution_count": 19,
   "metadata": {},
   "outputs": [],
   "source": [
    "# Опеределение самой сети\n",
    "class MnistNet:\n",
    "    def __init__(self, rlambda=0.0):\n",
    "        self.dense1 = Dense(x_train.shape[1], 100, rlambda)\n",
    "        self.relu = ReLU()\n",
    "        self.dense2 = Dense(100, 10, rlambda)\n",
    "        self.softmax = Softmax()\n",
    "    \n",
    "    def forward(self, x):\n",
    "        net = self.dense1.forward(x)\n",
    "        net = self.relu.forward(net)\n",
    "        net = self.dense2.forward(net)\n",
    "        net = self.softmax.forward(net)\n",
    "        return net\n",
    "    \n",
    "    def backward(self, dz, lr):\n",
    "        dz = self.softmax.backward(dz)\n",
    "        dz = self.dense2.backward(dz, lr)\n",
    "        dz = self.relu.backward(dz)\n",
    "        dz = self.dense1.backward(dz, lr)\n",
    "        return dz"
   ]
  },
  {
   "cell_type": "code",
   "execution_count": null,
   "metadata": {},
   "outputs": [],
   "source": []
  },
  {
   "cell_type": "code",
   "execution_count": null,
   "metadata": {},
   "outputs": [],
   "source": []
  },
  {
   "cell_type": "code",
   "execution_count": null,
   "metadata": {},
   "outputs": [
    {
     "data": {
      "application/vnd.jupyter.widget-view+json": {
       "model_id": "b67e914565e54054bb281bea81fb9b06",
       "version_major": 2,
       "version_minor": 0
      },
      "text/plain": [
       "HBox(children=(IntProgress(value=0), HTML(value='')))"
      ]
     },
     "metadata": {},
     "output_type": "display_data"
    },
    {
     "name": "stdout",
     "output_type": "stream",
     "text": [
      "0 0.3102703646309975 0.21481735056916273\n"
     ]
    }
   ],
   "source": [
    "# Здесь процедура обучения\n",
    "net = MnistNet(0.0002)\n",
    "loss = CrossEntropy()\n",
    "lr = 0.003\n",
    "L_train = []\n",
    "L_test = []\n",
    "acc_train = []\n",
    "acc_test = []\n",
    "\n",
    "for iter in tqdm.tqdm_notebook(range(100)):\n",
    "    L_acc = 0.\n",
    "    sh = list(range(x_train.shape[0]))\n",
    "    np.random.shuffle(sh)\n",
    "    for i in range(x_train.shape[0]):\n",
    "        x = x_train[sh[i]]\n",
    "        y = encoder.transform(y_train[sh[i]])\n",
    "        y_h = net.forward(x)\n",
    "        L = loss.forward(y, y_h)\n",
    "        L_acc += L \n",
    "        dz = loss.backward(1)\n",
    "        dz = net.backward(dz, lr)\n",
    "    L_acc /= y_train.shape[0]\n",
    "    L_train.append(L_acc)\n",
    "    L_e_acc = 0.\n",
    "    for i in range(x_val.shape[0]):\n",
    "        x = x_val[i]\n",
    "        y = encoder.transform(y_val[i])\n",
    "        y_h = net.forward(x)\n",
    "        L = loss.forward(y, y_h)\n",
    "        L_e_acc += L\n",
    "    L_e_acc /= y_val.shape[0]\n",
    "    L_test.append(L_e_acc)\n",
    "    print(iter, L_acc, L_e_acc)\n",
    "    acc_train.append(compute_acc(x_train, y_train, net))\n",
    "    acc_test.append(compute_acc(x_val, y_val, net))\n"
   ]
  },
  {
   "cell_type": "code",
   "execution_count": null,
   "metadata": {},
   "outputs": [],
   "source": [
    "# Здесь необходимо отрисовать графики CrossEntropyLoss для обучающей и валидационной выборок\n",
    "# plot(L_train, label=\"train\")\n",
    "\n",
    "plt.title('Loss')\n",
    "plt.plot(L_train, label = 'Train')\n",
    "plt.plot(L_test, label = 'Validation')\n",
    "plt.legend();\n",
    "\n",
    "plt.title('Acc')\n",
    "plt.plot(acc_train, label='Train')\n",
    "plt.plot(acc_test, label='Validation')\n",
    "plt.legend();"
   ]
  },
  {
   "cell_type": "code",
   "execution_count": null,
   "metadata": {},
   "outputs": [],
   "source": [
    "# формируем сабмишшен и заливаем его на kaggle\n",
    "\n",
    "X_test = test_no_lables['data']\n",
    "\n",
    "X_test = X_test.astype('float')\n",
    "\n",
    "\n",
    "X_test_norm = (X_test - np.mean(X_test, axis = 0)) / (np.std(X_test, axis = 0) + 0.00001)\n",
    "\n",
    "make_submission(X_test_norm, net)"
   ]
  }
 ],
 "metadata": {
  "kernelspec": {
   "display_name": "Python 3",
   "language": "python",
   "name": "python3"
  },
  "language_info": {
   "codemirror_mode": {
    "name": "ipython",
    "version": 3
   },
   "file_extension": ".py",
   "mimetype": "text/x-python",
   "name": "python",
   "nbconvert_exporter": "python",
   "pygments_lexer": "ipython3",
   "version": "3.7.0"
  }
 },
 "nbformat": 4,
 "nbformat_minor": 2
}
