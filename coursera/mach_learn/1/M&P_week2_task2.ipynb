{
 "cells": [
  {
   "cell_type": "code",
   "execution_count": 1,
   "metadata": {},
   "outputs": [],
   "source": [
    "import numpy as np\n",
    "import math\n",
    "import scipy\n",
    "from scipy import linalg\n",
    "import pylab\n",
    "from matplotlib import mlab"
   ]
  },
  {
   "cell_type": "markdown",
   "metadata": {},
   "source": [
    "Заданая алгебраическая функция"
   ]
  },
  {
   "cell_type": "code",
   "execution_count": 2,
   "metadata": {},
   "outputs": [],
   "source": [
    "def f(x):\n",
    "    return (math.sin(x/5))*(math.exp(x/10)) + 5*(math.exp(-x/2))"
   ]
  },
  {
   "cell_type": "markdown",
   "metadata": {},
   "source": [
    "## 1"
   ]
  },
  {
   "cell_type": "markdown",
   "metadata": {},
   "source": [
    "Создадим систему уравнений"
   ]
  },
  {
   "cell_type": "code",
   "execution_count": 3,
   "metadata": {},
   "outputs": [],
   "source": [
    "points1 = [1.0 ,15.0]\n",
    "\n",
    "b1 = list()\n",
    "for i in range(len(points1)):\n",
    "    b1.append(f(points1[i]))\n",
    "    \n",
    "b1 = np.array(b1)\n",
    "    \n",
    "A1 = np.zeros((len(points1), len(points1)))\n",
    "for i in range(len(points1)):\n",
    "    for j in range(len(points1)):\n",
    "        A1[i][j] = points1[i]**j"
   ]
  },
  {
   "cell_type": "markdown",
   "metadata": {},
   "source": [
    "Решим систему"
   ]
  },
  {
   "cell_type": "code",
   "execution_count": 4,
   "metadata": {},
   "outputs": [],
   "source": [
    "w1 = scipy.linalg.solve(A1,b1)"
   ]
  },
  {
   "cell_type": "markdown",
   "metadata": {},
   "source": [
    "Построим график"
   ]
  },
  {
   "cell_type": "code",
   "execution_count": 5,
   "metadata": {},
   "outputs": [],
   "source": [
    "def g1(x):\n",
    "    return w1[0] + w1[1]*x"
   ]
  },
  {
   "cell_type": "code",
   "execution_count": 6,
   "metadata": {},
   "outputs": [
    {
     "name": "stderr",
     "output_type": "stream",
     "text": [
      "/home/bashir/anaconda3/lib/python3.7/site-packages/ipykernel_launcher.py:5: MatplotlibDeprecationWarning: numpy.arange\n",
      "  \"\"\"\n"
     ]
    }
   ],
   "source": [
    "xmin = 0.0\n",
    "xmax = 20.0\n",
    "dx = 0.01\n",
    "\n",
    "xlist = mlab.frange(xmin, xmax, dx)\n",
    "flist = [f(x) for x in xlist]"
   ]
  },
  {
   "cell_type": "code",
   "execution_count": 7,
   "metadata": {},
   "outputs": [],
   "source": [
    "g1list = [g1(x) for x in xlist]"
   ]
  },
  {
   "cell_type": "code",
   "execution_count": 8,
   "metadata": {},
   "outputs": [
    {
     "data": {
      "image/png": "[encoded data removed]",
      "text/plain": [
       "<Figure size 432x288 with 1 Axes>"
      ]
     },
     "metadata": {
      "needs_background": "light"
     },
     "output_type": "display_data"
    }
   ],
   "source": [
    "pylab.plot(xlist, flist)\n",
    "pylab.plot(xlist, g1list)\n",
    "pylab.show()"
   ]
  },
  {
   "cell_type": "markdown",
   "metadata": {},
   "source": [
    "## 2"
   ]
  },
  {
   "cell_type": "code",
   "execution_count": 9,
   "metadata": {},
   "outputs": [],
   "source": [
    "points2 = [1.0, 8.0, 15.0]\n",
    "\n",
    "b2 = list()\n",
    "for i in range(len(points2)):\n",
    "    b2.append(f(points2[i]))\n",
    "    \n",
    "b2 = np.array(b2)\n",
    "    \n",
    "A2 = np.zeros((len(points2), len(points2)))\n",
    "for i in range(len(points2)):\n",
    "    for j in range(len(points2)):\n",
    "        A2[i][j] = points2[i]**j"
   ]
  },
  {
   "cell_type": "code",
   "execution_count": 10,
   "metadata": {},
   "outputs": [],
   "source": [
    "w2 = scipy.linalg.solve(A2,b2)"
   ]
  },
  {
   "cell_type": "code",
   "execution_count": 11,
   "metadata": {},
   "outputs": [],
   "source": [
    "def g2(x):\n",
    "    return w2[0] + w2[1]*x +w2[2]*x**2"
   ]
  },
  {
   "cell_type": "code",
   "execution_count": 12,
   "metadata": {},
   "outputs": [],
   "source": [
    "g2list = [g2(x) for x in xlist]"
   ]
  },
  {
   "cell_type": "code",
   "execution_count": 13,
   "metadata": {},
   "outputs": [
    {
     "data": {
      "image/png": "[encoded data removed]",
      "text/plain": [
       "<Figure size 432x288 with 1 Axes>"
      ]
     },
     "metadata": {
      "needs_background": "light"
     },
     "output_type": "display_data"
    }
   ],
   "source": [
    "pylab.plot(xlist, flist)\n",
    "pylab.plot(xlist, g2list)\n",
    "pylab.show()"
   ]
  },
  {
   "cell_type": "markdown",
   "metadata": {},
   "source": [
    "## 3"
   ]
  },
  {
   "cell_type": "code",
   "execution_count": 14,
   "metadata": {},
   "outputs": [],
   "source": [
    "points3 = [1.0, 4.0, 10.0, 15.0]\n",
    "\n",
    "b3 = list()\n",
    "for i in range(len(points3)):\n",
    "    b3.append(f(points3[i]))\n",
    "\n",
    "b3 = np.array(b3)   \n",
    "\n",
    "A3 = np.zeros((len(points3), len(points3)))\n",
    "for i in range(len(points3)):\n",
    "    for j in range(len(points3)):\n",
    "        A3[i][j] = points3[i]**j"
   ]
  },
  {
   "cell_type": "code",
   "execution_count": 15,
   "metadata": {},
   "outputs": [],
   "source": [
    "w3 = scipy.linalg.solve(A3, b3)"
   ]
  },
  {
   "cell_type": "code",
   "execution_count": 16,
   "metadata": {},
   "outputs": [],
   "source": [
    "def g3(x):\n",
    "    return w3[0] + w3[1]*x + w3[2]*x**2 + w3[3]*x**3"
   ]
  },
  {
   "cell_type": "code",
   "execution_count": 17,
   "metadata": {},
   "outputs": [],
   "source": [
    "g3list = [g3(x) for x in xlist]"
   ]
  },
  {
   "cell_type": "code",
   "execution_count": 18,
   "metadata": {},
   "outputs": [
    {
     "data": {
      "image/png": "[encoded data removed]",
      "text/plain": [
       "<Figure size 432x288 with 1 Axes>"
      ]
     },
     "metadata": {
      "needs_background": "light"
     },
     "output_type": "display_data"
    }
   ],
   "source": [
    "pylab.plot(xlist, flist)\n",
    "pylab.plot(xlist, g3list)\n",
    "pylab.show()"
   ]
  },
  {
   "cell_type": "code",
   "execution_count": 19,
   "metadata": {},
   "outputs": [
    {
     "data": {
      "text/plain": [
       "array([ 4.36264154, -1.29552587,  0.19333685, -0.00823565])"
      ]
     },
     "execution_count": 19,
     "metadata": {},
     "output_type": "execute_result"
    }
   ],
   "source": [
    "w3"
   ]
  }
 ],
 "metadata": {
  "kernelspec": {
   "display_name": "Python 3",
   "language": "python",
   "name": "python3"
  },
  "language_info": {
   "codemirror_mode": {
    "name": "ipython",
    "version": 3
   },
   "file_extension": ".py",
   "mimetype": "text/x-python",
   "name": "python",
   "nbconvert_exporter": "python",
   "pygments_lexer": "ipython3",
   "version": "3.7.2"
  }
 },
 "nbformat": 4,
 "nbformat_minor": 2
}
